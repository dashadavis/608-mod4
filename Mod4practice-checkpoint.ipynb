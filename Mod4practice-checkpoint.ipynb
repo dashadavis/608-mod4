{
 "cells": [
  {
   "cell_type": "markdown",
   "id": "912cfa90-7a7a-46e0-b699-8ab04117cb2b",
   "metadata": {},
   "source": [
    "# Dasha Davis, Module 4 Practice"
   ]
  },
  {
   "cell_type": "code",
   "execution_count": null,
   "id": "2cecd2b6-e892-49fa-96b4-968ebe536f43",
   "metadata": {},
   "outputs": [],
   "source": []
  },
  {
   "cell_type": "markdown",
   "id": "619e9d2c-22e6-497b-ba80-d72234ea0815",
   "metadata": {},
   "source": [
    "## Chapter 5, Lists"
   ]
  },
  {
   "cell_type": "markdown",
   "id": "76f8a02b-b1e2-47de-94d1-0957407f2599",
   "metadata": {},
   "source": [
    "## Section 5.2, pg. 156"
   ]
  },
  {
   "cell_type": "code",
   "execution_count": 1,
   "id": "20f332fb-1e69-4148-8e74-ff2b13ea56e6",
   "metadata": {},
   "outputs": [],
   "source": [
    "c = [-45, 6, 0, 72, 1543]"
   ]
  },
  {
   "cell_type": "code",
   "execution_count": 2,
   "id": "34988e52-3234-4c59-8e1e-c022c21c1b86",
   "metadata": {},
   "outputs": [
    {
     "data": {
      "text/plain": [
       "[-45, 6, 0, 72, 1543]"
      ]
     },
     "execution_count": 2,
     "metadata": {},
     "output_type": "execute_result"
    }
   ],
   "source": [
    "c"
   ]
  },
  {
   "cell_type": "code",
   "execution_count": 3,
   "id": "172a99f6-7ddd-48db-95b1-4f9c0481bd6f",
   "metadata": {},
   "outputs": [
    {
     "data": {
      "text/plain": [
       "-45"
      ]
     },
     "execution_count": 3,
     "metadata": {},
     "output_type": "execute_result"
    }
   ],
   "source": [
    "c[0]"
   ]
  },
  {
   "cell_type": "code",
   "execution_count": 4,
   "id": "a217f66d-ed85-4521-98e0-44e4f4a75eea",
   "metadata": {},
   "outputs": [
    {
     "data": {
      "text/plain": [
       "1543"
      ]
     },
     "execution_count": 4,
     "metadata": {},
     "output_type": "execute_result"
    }
   ],
   "source": [
    "c[4]"
   ]
  },
  {
   "cell_type": "code",
   "execution_count": 5,
   "id": "f5879009-f317-4369-b2c5-876991b868c7",
   "metadata": {},
   "outputs": [
    {
     "data": {
      "text/plain": [
       "5"
      ]
     },
     "execution_count": 5,
     "metadata": {},
     "output_type": "execute_result"
    }
   ],
   "source": [
    "len(c)"
   ]
  },
  {
   "cell_type": "code",
   "execution_count": 6,
   "id": "bb8e1d77-c0b8-44b9-b546-71fb6ebe2c78",
   "metadata": {},
   "outputs": [
    {
     "data": {
      "text/plain": [
       "1543"
      ]
     },
     "execution_count": 6,
     "metadata": {},
     "output_type": "execute_result"
    }
   ],
   "source": [
    "c[-1]"
   ]
  },
  {
   "cell_type": "code",
   "execution_count": 7,
   "id": "d80f8deb-7c3f-450a-b63e-0f4a71df51f3",
   "metadata": {},
   "outputs": [
    {
     "data": {
      "text/plain": [
       "-45"
      ]
     },
     "execution_count": 7,
     "metadata": {},
     "output_type": "execute_result"
    }
   ],
   "source": [
    "c[-5]"
   ]
  },
  {
   "cell_type": "markdown",
   "id": "d58f8457-ee6f-4672-98f2-74872e166751",
   "metadata": {},
   "source": [
    "## Using a non-integer index value causes a TypeError"
   ]
  },
  {
   "cell_type": "code",
   "execution_count": null,
   "id": "afd529bb-7053-4cc8-b7dd-15ca15f82f41",
   "metadata": {},
   "outputs": [],
   "source": []
  },
  {
   "cell_type": "code",
   "execution_count": 8,
   "id": "0107bd82-13e9-4e21-9263-4f473c2e48b4",
   "metadata": {},
   "outputs": [],
   "source": [
    "a = 1"
   ]
  },
  {
   "cell_type": "code",
   "execution_count": 9,
   "id": "c3e833ca-9c44-460d-8d6b-b179f354a5cc",
   "metadata": {},
   "outputs": [],
   "source": [
    "b = 2"
   ]
  },
  {
   "cell_type": "code",
   "execution_count": 10,
   "id": "5e024a5e-7250-4e0a-8703-2ebd4a7e1ef0",
   "metadata": {},
   "outputs": [
    {
     "data": {
      "text/plain": [
       "72"
      ]
     },
     "execution_count": 10,
     "metadata": {},
     "output_type": "execute_result"
    }
   ],
   "source": [
    "c[a+b]"
   ]
  },
  {
   "cell_type": "code",
   "execution_count": null,
   "id": "60ac0a50-adf9-4cf7-bc7b-ad263cff6f7d",
   "metadata": {},
   "outputs": [],
   "source": []
  },
  {
   "cell_type": "markdown",
   "id": "3e1e10f3-d9ef-47a2-a94d-6af81f65fe1f",
   "metadata": {},
   "source": [
    "## Lists are mutable - their elements can be modified (pg. 158)"
   ]
  },
  {
   "cell_type": "code",
   "execution_count": null,
   "id": "d794d35c-15d8-4c70-85e3-e18a7a20811b",
   "metadata": {},
   "outputs": [],
   "source": []
  },
  {
   "cell_type": "code",
   "execution_count": 11,
   "id": "91121032-1d73-417d-8f18-9c6744ee367d",
   "metadata": {},
   "outputs": [],
   "source": [
    "c[4] = 17"
   ]
  },
  {
   "cell_type": "code",
   "execution_count": 12,
   "id": "ee983c9c-d5bc-40cf-a275-a2d782323b8e",
   "metadata": {},
   "outputs": [
    {
     "data": {
      "text/plain": [
       "[-45, 6, 0, 72, 17]"
      ]
     },
     "execution_count": 12,
     "metadata": {},
     "output_type": "execute_result"
    }
   ],
   "source": [
    "c"
   ]
  },
  {
   "cell_type": "markdown",
   "id": "6900a97b-5bc4-461e-b681-eb193ba2af01",
   "metadata": {},
   "source": [
    "#Strings and tuples are immutable (can't be modified) "
   ]
  },
  {
   "cell_type": "markdown",
   "id": "d2d0bd53-fd06-460c-b4e1-ee99eebbd01f",
   "metadata": {},
   "source": [
    "#strings need quotes"
   ]
  },
  {
   "cell_type": "code",
   "execution_count": 13,
   "id": "8377d3c9-d537-4155-9c78-8a6ff3ffb860",
   "metadata": {},
   "outputs": [
    {
     "data": {
      "text/plain": [
       "'h'"
      ]
     },
     "execution_count": 13,
     "metadata": {},
     "output_type": "execute_result"
    }
   ],
   "source": [
    "s = 'hello'\n",
    "s[0] #needed to be in same cell. Error when put in separate cell"
   ]
  },
  {
   "cell_type": "code",
   "execution_count": null,
   "id": "18cafa37-a1d7-49aa-9fd0-d7d041ce573f",
   "metadata": {},
   "outputs": [
    {
     "ename": "TypeError",
     "evalue": "'str' object does not support item assignment",
     "output_type": "error",
     "traceback": [
      "\u001b[1;31m---------------------------------------------------------------------------\u001b[0m",
      "\u001b[1;31mTypeError\u001b[0m                                 Traceback (most recent call last)",
      "Input \u001b[1;32mIn [14]\u001b[0m, in \u001b[0;36m<cell line: 1>\u001b[1;34m()\u001b[0m\n\u001b[1;32m----> 1\u001b[0m \u001b[43ms\u001b[49m\u001b[43m[\u001b[49m\u001b[38;5;241;43m0\u001b[39;49m\u001b[43m]\u001b[49m \u001b[38;5;241m=\u001b[39m \u001b[38;5;124m'\u001b[39m\u001b[38;5;124mH\u001b[39m\u001b[38;5;124m'\u001b[39m\n",
      "\u001b[1;31mTypeError\u001b[0m: 'str' object does not support item assignment"
     ]
    }
   ],
   "source": [
    "s[0] = 'H'"
   ]
  },
  {
   "cell_type": "markdown",
   "id": "317ec3ed-9a55-4153-a1f2-f840819a194a",
   "metadata": {},
   "source": [
    "#above error occurs because strings and tuples can't be modified"
   ]
  },
  {
   "cell_type": "code",
   "execution_count": 23,
   "id": "48d84dcd-bfda-4510-b523-c546ae22fb16",
   "metadata": {},
   "outputs": [
    {
     "ename": "IndexError",
     "evalue": "list index out of range",
     "output_type": "error",
     "traceback": [
      "\u001b[1;31m---------------------------------------------------------------------------\u001b[0m",
      "\u001b[1;31mIndexError\u001b[0m                                Traceback (most recent call last)",
      "Input \u001b[1;32mIn [23]\u001b[0m, in \u001b[0;36m<cell line: 1>\u001b[1;34m()\u001b[0m\n\u001b[1;32m----> 1\u001b[0m \u001b[43mc\u001b[49m\u001b[43m[\u001b[49m\u001b[38;5;241;43m100\u001b[39;49m\u001b[43m]\u001b[49m\n",
      "\u001b[1;31mIndexError\u001b[0m: list index out of range"
     ]
    }
   ],
   "source": [
    "c[100]"
   ]
  },
  {
   "cell_type": "markdown",
   "id": "0da9dddc-faef-4331-b273-e8df16966f25",
   "metadata": {},
   "source": [
    "#error caused when accessing a nonexistent element (index number doesn't match list elements)"
   ]
  },
  {
   "cell_type": "code",
   "execution_count": null,
   "id": "ab077ca9-e28f-4d28-a242-ebb50b5d3586",
   "metadata": {},
   "outputs": [],
   "source": []
  },
  {
   "cell_type": "code",
   "execution_count": null,
   "id": "f655b3bc-8582-4c48-addd-be86564d8ac1",
   "metadata": {},
   "outputs": [],
   "source": [
    "## Dasha Davis List elements may be used as variables in expressions"
   ]
  },
  {
   "cell_type": "code",
   "execution_count": 24,
   "id": "34d8636a-8acf-4b44-a38f-44aaf1a9f1a4",
   "metadata": {},
   "outputs": [
    {
     "data": {
      "text/plain": [
       "-39"
      ]
     },
     "execution_count": 24,
     "metadata": {},
     "output_type": "execute_result"
    }
   ],
   "source": [
    "c[0] + c[1] + c[2]"
   ]
  },
  {
   "cell_type": "markdown",
   "id": "9ae387be-3b2e-4c89-93c2-70d87f92528a",
   "metadata": {},
   "source": [
    "#Appending to a list with += "
   ]
  },
  {
   "cell_type": "code",
   "execution_count": 25,
   "id": "d83df280-4d2e-4d04-81f9-b8fd7ba872d1",
   "metadata": {},
   "outputs": [],
   "source": [
    "a_list = [] #start with empty list"
   ]
  },
  {
   "cell_type": "code",
   "execution_count": 26,
   "id": "bda7846f-977d-4dca-a2ba-5166ac91da6a",
   "metadata": {},
   "outputs": [],
   "source": [
    "for number in range(1, 6):\n",
    "    a_list += [number]\n",
    "    \n",
    "    "
   ]
  },
  {
   "cell_type": "code",
   "execution_count": 27,
   "id": "133337c1-5c6e-44ed-aaa3-f835dbe06c6c",
   "metadata": {},
   "outputs": [
    {
     "data": {
      "text/plain": [
       "[1, 2, 3, 4, 5]"
      ]
     },
     "execution_count": 27,
     "metadata": {},
     "output_type": "execute_result"
    }
   ],
   "source": [
    "a_list"
   ]
  },
  {
   "cell_type": "markdown",
   "id": "cc8144ad-8896-4354-92be-e1f15d89b09d",
   "metadata": {},
   "source": [
    "# appending (adding) characters in strings to a list"
   ]
  },
  {
   "cell_type": "code",
   "execution_count": 28,
   "id": "df3acc4a-ad63-4447-a200-b319799a4658",
   "metadata": {},
   "outputs": [
    {
     "data": {
      "text/plain": [
       "['P', 'y', 't', 'h', 'o', 'n']"
      ]
     },
     "execution_count": 28,
     "metadata": {},
     "output_type": "execute_result"
    }
   ],
   "source": [
    "letters = [] #start with empty list\n",
    "\n",
    "letters += 'Python'\n",
    "\n",
    "letters"
   ]
  },
  {
   "cell_type": "markdown",
   "id": "5582620f-0bef-46a8-b8b1-e3d1770194b7",
   "metadata": {},
   "source": [
    "# if the right operand of the += is a tuple, its elements also are amended to the list. "
   ]
  },
  {
   "cell_type": "code",
   "execution_count": null,
   "id": "a74c21a1-fc9b-4ce0-bf1b-9b21460679c4",
   "metadata": {},
   "outputs": [],
   "source": []
  },
  {
   "cell_type": "markdown",
   "id": "43738589-14f8-4f84-b4cb-b205a52b73af",
   "metadata": {},
   "source": [
    "# Concatenating Lists with +, resultingin a new sequence containing left elements and right elements with sequence being changed (p. 159)"
   ]
  },
  {
   "cell_type": "code",
   "execution_count": 29,
   "id": "490ce63c-8662-4b23-b1a0-5758691f9e9a",
   "metadata": {},
   "outputs": [
    {
     "data": {
      "text/plain": [
       "[10, 20, 30, 40, 50]"
      ]
     },
     "execution_count": 29,
     "metadata": {},
     "output_type": "execute_result"
    }
   ],
   "source": [
    "list1 = [10, 20, 30]\n",
    "list2 = [40, 50]\n",
    "\n",
    "concatenated_list = list1 + list2\n",
    "\n",
    "concatenated_list"
   ]
  },
  {
   "cell_type": "code",
   "execution_count": null,
   "id": "16e7470a-9a2e-4ed9-a0f3-643a843cc50c",
   "metadata": {
    "tags": []
   },
   "outputs": [],
   "source": [
    "# you will get an error if you try to concatenate a list and a tuple (different sequence types)"
   ]
  },
  {
   "cell_type": "markdown",
   "id": "1dd80262-b26a-4b10-982e-0a479d2a9fc8",
   "metadata": {},
   "source": [
    "# using for and range to Access List Indices and Values"
   ]
  },
  {
   "cell_type": "markdown",
   "id": "a10d04d6-e2a5-480d-a241-7c26a46bb346",
   "metadata": {},
   "source": [
    "# List elements can be accessed via their indices and the subscription operator([]): pg. 159"
   ]
  },
  {
   "cell_type": "code",
   "execution_count": 30,
   "id": "5e4a1fb4-5e47-44b2-9ece-9bdcaed5ba92",
   "metadata": {},
   "outputs": [
    {
     "name": "stdout",
     "output_type": "stream",
     "text": [
      "0: 10\n",
      "1: 20\n",
      "2: 30\n",
      "3: 40\n",
      "4: 50\n"
     ]
    }
   ],
   "source": [
    "for i in range(len(concatenated_list)):\n",
    "    print(f'{i}: {concatenated_list[i]}')"
   ]
  },
  {
   "cell_type": "code",
   "execution_count": null,
   "id": "5f25ba91-0025-4c57-9d81-ee2852e4ec55",
   "metadata": {
    "tags": []
   },
   "outputs": [],
   "source": [
    "# above - processing every item in a list, in this case printing a formatted string"
   ]
  },
  {
   "cell_type": "markdown",
   "id": "209ab17c-9a16-4279-9ab2-f2b7c0653945",
   "metadata": {},
   "source": [
    "# Dasha Davis - Comparison operators - compare entire lists element-by-element using comparison operators:"
   ]
  },
  {
   "cell_type": "code",
   "execution_count": 31,
   "id": "5d1a9216-97bc-4d5a-bdb0-5c6c763e7424",
   "metadata": {},
   "outputs": [
    {
     "data": {
      "text/plain": [
       "True"
      ]
     },
     "execution_count": 31,
     "metadata": {},
     "output_type": "execute_result"
    }
   ],
   "source": [
    "a = [1, 2, 3]\n",
    "b = [1, 2, 3]\n",
    "c = [1, 2, 3, 4]\n",
    "\n",
    "a == b #true: corresponding elements in both are equal"
   ]
  },
  {
   "cell_type": "code",
   "execution_count": 32,
   "id": "8b2012b8-3c7c-4b62-9366-3782f257a6ff",
   "metadata": {},
   "outputs": [
    {
     "data": {
      "text/plain": [
       "False"
      ]
     },
     "execution_count": 32,
     "metadata": {},
     "output_type": "execute_result"
    }
   ],
   "source": [
    "a == c  #false: a and c have different elements and lengths"
   ]
  },
  {
   "cell_type": "code",
   "execution_count": 33,
   "id": "e4b35d0c-e7e5-4ab4-8e4d-e0f8c7a5daa5",
   "metadata": {},
   "outputs": [
    {
     "data": {
      "text/plain": [
       "True"
      ]
     },
     "execution_count": 33,
     "metadata": {},
     "output_type": "execute_result"
    }
   ],
   "source": [
    "a < c # true: a has fewer elements than c"
   ]
  },
  {
   "cell_type": "code",
   "execution_count": 34,
   "id": "92aaa4bf-58eb-4999-9248-f98d8118cf15",
   "metadata": {},
   "outputs": [
    {
     "data": {
      "text/plain": [
       "True"
      ]
     },
     "execution_count": 34,
     "metadata": {},
     "output_type": "execute_result"
    }
   ],
   "source": [
    "c >= b #true: elements 0-2 are equal but c has more more elements"
   ]
  },
  {
   "cell_type": "markdown",
   "id": "99ef4950-84cb-4970-991e-58cc92097eb6",
   "metadata": {},
   "source": [
    "# Dasha Davis - Self-Check, question 3 (pg. 160), create a function cube_list that cubes each element in a list. "
   ]
  },
  {
   "cell_type": "code",
   "execution_count": 35,
   "id": "77d4ec9f-996e-432c-b707-7b95396f3ab4",
   "metadata": {},
   "outputs": [
    {
     "data": {
      "text/plain": [
       "[1, 8, 27, 64, 125, 216, 343, 512, 729, 1000]"
      ]
     },
     "execution_count": 35,
     "metadata": {},
     "output_type": "execute_result"
    }
   ],
   "source": [
    "def cube_list(values):\n",
    "    for i in range(len(values)):\n",
    "        values[i] **= 3\n",
    "\n",
    "numbers = [1, 2, 3, 4, 5, 6, 7, 8, 9, 10]\n",
    "\n",
    "cube_list(numbers)\n",
    "\n",
    "numbers"
   ]
  },
  {
   "cell_type": "markdown",
   "id": "91999f05-aec5-4fca-b53f-5bf6b05f4940",
   "metadata": {},
   "source": [
    "# Dasha Davis, End of Section 5.2"
   ]
  },
  {
   "cell_type": "code",
   "execution_count": null,
   "id": "9fc99279-93e3-448d-84d5-34de42db1219",
   "metadata": {},
   "outputs": [],
   "source": []
  },
  {
   "cell_type": "code",
   "execution_count": null,
   "id": "2392d9f2-ece1-49c1-b53e-958650676fa7",
   "metadata": {},
   "outputs": [],
   "source": [
    "# 5.3 Tuples - pg. 161"
   ]
  },
  {
   "cell_type": "code",
   "execution_count": 36,
   "id": "6027dcd7-528d-47c5-8da7-474ed381db20",
   "metadata": {},
   "outputs": [
    {
     "data": {
      "text/plain": [
       "()"
      ]
     },
     "execution_count": 36,
     "metadata": {},
     "output_type": "execute_result"
    }
   ],
   "source": [
    "#empty tuple\n",
    "student_tuple = ()\n",
    "\n",
    "student_tuple"
   ]
  },
  {
   "cell_type": "code",
   "execution_count": 37,
   "id": "b1da0fc7-2a4c-4fd4-a4f2-f48262830c3b",
   "metadata": {},
   "outputs": [
    {
     "data": {
      "text/plain": [
       "0"
      ]
     },
     "execution_count": 37,
     "metadata": {},
     "output_type": "execute_result"
    }
   ],
   "source": [
    "#number of elements\n",
    "len(student_tuple)"
   ]
  },
  {
   "cell_type": "code",
   "execution_count": null,
   "id": "ea1c0e73-6eb8-4379-9105-4c00f35b7dd0",
   "metadata": {},
   "outputs": [],
   "source": [
    "#Dasha Davis packing a tuple by separating values with commas:"
   ]
  },
  {
   "cell_type": "code",
   "execution_count": 38,
   "id": "451bfd6c-09d7-4418-a549-7d4b9f178a12",
   "metadata": {},
   "outputs": [
    {
     "data": {
      "text/plain": [
       "('John', 'Green', 3.3)"
      ]
     },
     "execution_count": 38,
     "metadata": {},
     "output_type": "execute_result"
    }
   ],
   "source": [
    "student_tuple = 'John', 'Green', 3.3    #note - quotes with strings but not with integers or floats\n",
    "\n",
    "#also, can use parentheses in the tuple, but python automatically puts parentheses in the output\n",
    "\n",
    "student_tuple"
   ]
  },
  {
   "cell_type": "code",
   "execution_count": 39,
   "id": "b0245467-623b-4ba4-b449-03b0d6f88332",
   "metadata": {},
   "outputs": [
    {
     "data": {
      "text/plain": [
       "3"
      ]
     },
     "execution_count": 39,
     "metadata": {},
     "output_type": "execute_result"
    }
   ],
   "source": [
    "len(student_tuple)"
   ]
  },
  {
   "cell_type": "code",
   "execution_count": 40,
   "id": "e422bea0-7dec-4880-86f0-af29ad9eacc2",
   "metadata": {},
   "outputs": [
    {
     "data": {
      "text/plain": [
       "('red',)"
      ]
     },
     "execution_count": 40,
     "metadata": {},
     "output_type": "execute_result"
    }
   ],
   "source": [
    "a_singleton_tuple = 'red', #the comma after the string identifies this as a tuple (just a single one), otherwise it\n",
    "#would refer to just the string \"red\", rather than a tuple\n",
    "\n",
    "a_singleton_tuple"
   ]
  },
  {
   "cell_type": "code",
   "execution_count": null,
   "id": "616b3527-93e0-48b5-bb38-59a6c78cdead",
   "metadata": {},
   "outputs": [],
   "source": []
  },
  {
   "cell_type": "markdown",
   "id": "8d8a1976-04e9-4772-b7f2-16c7bdfaef3b",
   "metadata": {},
   "source": [
    "# Dasha Davis accessing Tuple elements, pg. 161, tuple indices start at 0"
   ]
  },
  {
   "cell_type": "code",
   "execution_count": 41,
   "id": "500c303d-56e3-4ca2-99e8-6e5ccbd0cf70",
   "metadata": {},
   "outputs": [
    {
     "data": {
      "text/plain": [
       "(9, 16, 1)"
      ]
     },
     "execution_count": 41,
     "metadata": {},
     "output_type": "execute_result"
    }
   ],
   "source": [
    "time_tuple = (9, 16, 1)\n",
    "\n",
    "time_tuple"
   ]
  },
  {
   "cell_type": "code",
   "execution_count": 42,
   "id": "d96def5e-5fd0-4aef-9286-1a6da78473db",
   "metadata": {},
   "outputs": [
    {
     "data": {
      "text/plain": [
       "33361"
      ]
     },
     "execution_count": 42,
     "metadata": {},
     "output_type": "execute_result"
    }
   ],
   "source": [
    "time_tuple[0] * 3600 + time_tuple[1] * 60 + time_tuple[2]"
   ]
  },
  {
   "cell_type": "markdown",
   "id": "420f0e8e-5468-4a59-b3d9-b6672bf1b465",
   "metadata": {},
   "source": [
    "## the above is a type error because values can't be assigned to tuple elements"
   ]
  },
  {
   "cell_type": "code",
   "execution_count": null,
   "id": "7a3f9cce-c890-424f-92d5-0a27066fdd8e",
   "metadata": {},
   "outputs": [],
   "source": []
  },
  {
   "cell_type": "markdown",
   "id": "77d6f097-e653-4579-89ce-c102570d3dd0",
   "metadata": {},
   "source": [
    "# Dasha Davis adding items to a string or tuple, pg. 162"
   ]
  },
  {
   "cell_type": "code",
   "execution_count": 43,
   "id": "a050e7ce-06f9-4f81-a76c-f1aa12c467c6",
   "metadata": {},
   "outputs": [
    {
     "ename": "NameError",
     "evalue": "name 'tuple2' is not defined",
     "output_type": "error",
     "traceback": [
      "\u001b[1;31m---------------------------------------------------------------------------\u001b[0m",
      "\u001b[1;31mNameError\u001b[0m                                 Traceback (most recent call last)",
      "Input \u001b[1;32mIn [43]\u001b[0m, in \u001b[0;36m<cell line: 3>\u001b[1;34m()\u001b[0m\n\u001b[0;32m      1\u001b[0m tuple1 \u001b[38;5;241m=\u001b[39m (\u001b[38;5;241m10\u001b[39m, \u001b[38;5;241m20\u001b[39m, \u001b[38;5;241m30\u001b[39m)\n\u001b[1;32m----> 3\u001b[0m tuple1 \u001b[38;5;241m=\u001b[39m \u001b[43mtuple2\u001b[49m\n\u001b[0;32m      5\u001b[0m tuple2\n",
      "\u001b[1;31mNameError\u001b[0m: name 'tuple2' is not defined"
     ]
    }
   ],
   "source": [
    "tuple1 = (10, 20, 30)\n",
    "\n",
    "tuple1 = tuple2\n",
    "\n",
    "tuple2"
   ]
  },
  {
   "cell_type": "code",
   "execution_count": 44,
   "id": "cf23bf7c-c518-44c8-86ee-0e8006481063",
   "metadata": {},
   "outputs": [
    {
     "data": {
      "text/plain": [
       "(10, 20, 30)"
      ]
     },
     "execution_count": 44,
     "metadata": {},
     "output_type": "execute_result"
    }
   ],
   "source": [
    "tuple1 = (10, 20, 30)\n",
    "\n",
    "tuple2 = tuple1  #I changed the left side to say tuple2 (instead of tuple1)\n",
    "\n",
    "tuple2"
   ]
  },
  {
   "cell_type": "markdown",
   "id": "5ca7b5d3-732f-426c-b3ca-3844cde45940",
   "metadata": {},
   "source": [
    "## concatenating the tuple (40, 50) to tuple1 creates a new tuple (a new tuple1); tuple2 remains the same"
   ]
  },
  {
   "cell_type": "code",
   "execution_count": 45,
   "id": "7a401f86-7fd9-4b13-8717-ee8babbbf97e",
   "metadata": {},
   "outputs": [
    {
     "data": {
      "text/plain": [
       "(10, 20, 30, 40, 50)"
      ]
     },
     "execution_count": 45,
     "metadata": {},
     "output_type": "execute_result"
    }
   ],
   "source": [
    "tuple1 += (40,50)  #basically adding these elements to the original tuple1\n",
    "\n",
    "tuple1"
   ]
  },
  {
   "cell_type": "code",
   "execution_count": null,
   "id": "2b4a07ef-c415-487f-8a25-28f60efff701",
   "metadata": {
    "tags": []
   },
   "outputs": [],
   "source": [
    "## Dasha Davis the above augmented assignemnts += can be used with lists, strings, and tuples, even though they are immutable.The item\n",
    "## to the right of the += must be a string or tuple or TypeError occurs."
   ]
  },
  {
   "cell_type": "code",
   "execution_count": 46,
   "id": "49645224-0bf8-4a35-85e7-a8c5d5825d53",
   "metadata": {},
   "outputs": [
    {
     "data": {
      "text/plain": [
       "[1, 2, 3, 4, 5, 6, 7]"
      ]
     },
     "execution_count": 46,
     "metadata": {},
     "output_type": "execute_result"
    }
   ],
   "source": [
    "numbers = [1, 2, 3, 4, 5]  #adding tuples to a list\n",
    "\n",
    "numbers += (6, 7)\n",
    "\n",
    "numbers"
   ]
  },
  {
   "cell_type": "code",
   "execution_count": null,
   "id": "3368444b-bed8-4ada-8336-783e362fbcdf",
   "metadata": {},
   "outputs": [],
   "source": []
  },
  {
   "cell_type": "code",
   "execution_count": null,
   "id": "520c2b3e-5577-4a73-a85c-9882e49c6317",
   "metadata": {},
   "outputs": [],
   "source": [
    "# Dasha Davis Tuples may contain mutable objects"
   ]
  },
  {
   "cell_type": "code",
   "execution_count": 47,
   "id": "851439dc-93ad-4fe6-b7e9-8897ace4f44d",
   "metadata": {},
   "outputs": [
    {
     "data": {
      "text/plain": [
       "('Amanda', 'Blue', [98, 85, 87])"
      ]
     },
     "execution_count": 47,
     "metadata": {},
     "output_type": "execute_result"
    }
   ],
   "source": [
    "student_tuple = ('Amanda', 'Blue', [98, 75, 87])   #even though the tuple is immutable, the list element is mutable\n",
    "\n",
    "student_tuple[2][1] = 85 #double-scripted name (student_tuple[2][1])\n",
    "\n",
    "student_tuple"
   ]
  },
  {
   "cell_type": "code",
   "execution_count": null,
   "id": "c6f549f1-b757-44ce-a6c9-b4499f64219a",
   "metadata": {},
   "outputs": [],
   "source": [
    "#above - the list elements can be changed, so student_tuple[2[1] = 85\n",
    "#refers to the 1st index (75) of the 2nd index of the tuple (list) - changing that number to an 85"
   ]
  },
  {
   "cell_type": "markdown",
   "id": "1f0e6b0f-fda4-4586-aba5-88003eae741e",
   "metadata": {},
   "source": [
    "## Dasha Davis 5.3 ipython session of the Self Check"
   ]
  },
  {
   "cell_type": "code",
   "execution_count": null,
   "id": "be34b91e-037b-43fd-93e6-3dfd2c5a56d5",
   "metadata": {},
   "outputs": [],
   "source": [
    "#create a single-element tuple containing 123.45, then display it."
   ]
  },
  {
   "cell_type": "code",
   "execution_count": 48,
   "id": "0198be89-a24c-4bb5-9e71-4ddb3f802faf",
   "metadata": {},
   "outputs": [
    {
     "data": {
      "text/plain": [
       "(123.45,)"
      ]
     },
     "execution_count": 48,
     "metadata": {},
     "output_type": "execute_result"
    }
   ],
   "source": [
    "tuple1 = 123.45,  #don't forget the comma after a single-element tuple - parentheses are optional\n",
    "\n",
    "tuple1"
   ]
  },
  {
   "cell_type": "markdown",
   "id": "9814ea47-2a44-40e4-91ba-78342d79038c",
   "metadata": {},
   "source": [
    "# Dasha Davis concatenating sequences of different types - a list and a tuple, using the + operator"
   ]
  },
  {
   "cell_type": "code",
   "execution_count": 49,
   "id": "7413f716-7a32-4efe-8ae2-7bec13f1caa6",
   "metadata": {},
   "outputs": [
    {
     "ename": "TypeError",
     "evalue": "can only concatenate list (not \"tuple\") to list",
     "output_type": "error",
     "traceback": [
      "\u001b[1;31m---------------------------------------------------------------------------\u001b[0m",
      "\u001b[1;31mTypeError\u001b[0m                                 Traceback (most recent call last)",
      "Input \u001b[1;32mIn [49]\u001b[0m, in \u001b[0;36m<cell line: 1>\u001b[1;34m()\u001b[0m\n\u001b[1;32m----> 1\u001b[0m \u001b[43m[\u001b[49m\u001b[38;5;241;43m1\u001b[39;49m\u001b[43m,\u001b[49m\u001b[43m \u001b[49m\u001b[38;5;241;43m2\u001b[39;49m\u001b[43m,\u001b[49m\u001b[43m \u001b[49m\u001b[38;5;241;43m3\u001b[39;49m\u001b[43m]\u001b[49m\u001b[43m \u001b[49m\u001b[38;5;241;43m+\u001b[39;49m\u001b[43m \u001b[49m\u001b[43m(\u001b[49m\u001b[38;5;241;43m4\u001b[39;49m\u001b[43m,\u001b[49m\u001b[43m \u001b[49m\u001b[38;5;241;43m5\u001b[39;49m\u001b[43m,\u001b[49m\u001b[43m \u001b[49m\u001b[38;5;241;43m6\u001b[39;49m\u001b[43m)\u001b[49m\n",
      "\u001b[1;31mTypeError\u001b[0m: can only concatenate list (not \"tuple\") to list"
     ]
    }
   ],
   "source": [
    "[1, 2, 3] + (4, 5, 6)  #will result in a TypeError because you can only concatenate a list to a list or a tuple to a tuple"
   ]
  },
  {
   "cell_type": "code",
   "execution_count": null,
   "id": "1d1a77ce-3578-4f9c-b8c7-1f9a766a642f",
   "metadata": {},
   "outputs": [],
   "source": []
  },
  {
   "cell_type": "markdown",
   "id": "f2fc11c3-1eda-4ca0-89a4-c1c44933a339",
   "metadata": {},
   "source": [
    "# Dasha Davis, 5.4 Unpacking Sequences, p. 163 "
   ]
  },
  {
   "cell_type": "code",
   "execution_count": 50,
   "id": "63ca50f2-1add-4c8d-b068-8baa5a03f00d",
   "metadata": {},
   "outputs": [
    {
     "data": {
      "text/plain": [
       "'Amanda'"
      ]
     },
     "execution_count": 50,
     "metadata": {},
     "output_type": "execute_result"
    }
   ],
   "source": [
    "student_tuple = ('Amanda', [98, 85, 87]) #unpacking a tuple\n",
    "\n",
    "first_name, grades = student_tuple\n",
    "\n",
    "first_name"
   ]
  },
  {
   "cell_type": "code",
   "execution_count": 51,
   "id": "6689d06d-6700-4f22-b602-22d509080588",
   "metadata": {},
   "outputs": [
    {
     "data": {
      "text/plain": [
       "[98, 85, 87]"
      ]
     },
     "execution_count": 51,
     "metadata": {},
     "output_type": "execute_result"
    }
   ],
   "source": [
    "grades"
   ]
  },
  {
   "cell_type": "markdown",
   "id": "24bea257-3e4c-4c30-a96f-dc28f9ceb2f0",
   "metadata": {},
   "source": [
    "## unpacking a string"
   ]
  },
  {
   "cell_type": "code",
   "execution_count": 52,
   "id": "065521fd-182c-49d1-a023-1ef3fa0ece9a",
   "metadata": {},
   "outputs": [
    {
     "name": "stdout",
     "output_type": "stream",
     "text": [
      "h i\n"
     ]
    }
   ],
   "source": [
    "first, second = 'hi'\n",
    "\n",
    "print(f'{first} {second}')"
   ]
  },
  {
   "cell_type": "code",
   "execution_count": null,
   "id": "f8d836bb-3b17-4470-bc83-be69507b44cf",
   "metadata": {},
   "outputs": [],
   "source": [
    "# reminder - F-strings provide a way to embed expressions inside string literals, using a minimal syntax. \n",
    "# f goes inside the parentheses"
   ]
  },
  {
   "cell_type": "markdown",
   "id": "ad9041f2-1380-4404-bd06-92762e9dd9b6",
   "metadata": {},
   "source": [
    "## unpacking a list"
   ]
  },
  {
   "cell_type": "code",
   "execution_count": 53,
   "id": "eaf50458-a34e-4450-aa14-08360229ddbc",
   "metadata": {},
   "outputs": [
    {
     "name": "stdout",
     "output_type": "stream",
     "text": [
      "2 3 5\n"
     ]
    }
   ],
   "source": [
    "number1, number2, number3 = [2,3,5] \n",
    "\n",
    "print(f'{number1} {number2} {number3}')"
   ]
  },
  {
   "cell_type": "markdown",
   "id": "d43e96b1-bb3a-46a1-9024-3806c0ce87e6",
   "metadata": {},
   "source": [
    "## unpacking a sequence produced by a range"
   ]
  },
  {
   "cell_type": "code",
   "execution_count": 54,
   "id": "ff87fe85-53a0-487e-b0c9-9637550aca6b",
   "metadata": {},
   "outputs": [
    {
     "name": "stdout",
     "output_type": "stream",
     "text": [
      "10 20 30\n"
     ]
    }
   ],
   "source": [
    "number1, number2, number3 = range(10, 40, 10) \n",
    "\n",
    "print(f'{number1} {number2} {number3}')"
   ]
  },
  {
   "cell_type": "code",
   "execution_count": null,
   "id": "7380059a-de53-4a35-b844-8b544adfb337",
   "metadata": {},
   "outputs": [],
   "source": []
  },
  {
   "cell_type": "markdown",
   "id": "48e6bff7-16c2-45a4-a02b-112b31a6c431",
   "metadata": {},
   "source": [
    "# I was 'today years old' when I figured out you need a space after the hashmark for a markdown"
   ]
  },
  {
   "cell_type": "markdown",
   "id": "e17ddcad-174c-4e03-8d37-c66a743e802a",
   "metadata": {},
   "source": [
    "# Dasha Davis - swapping values via packing and unpacking"
   ]
  },
  {
   "cell_type": "code",
   "execution_count": 55,
   "id": "cad429bf-4aa6-4c1f-84bd-ef3002bb4372",
   "metadata": {},
   "outputs": [
    {
     "name": "stdout",
     "output_type": "stream",
     "text": [
      "number1 = 99; number2 = 99\n"
     ]
    }
   ],
   "source": [
    "number1 = 99\n",
    "\n",
    "number2 = 22\n",
    "\n",
    "numbner1, number2 = (number2, number1)  \n",
    "\n",
    "print(f'number1 = {number1}; number2 = {number2}')"
   ]
  },
  {
   "cell_type": "code",
   "execution_count": 56,
   "id": "4e977f83-266d-49ae-9ac6-c50126ae5bf6",
   "metadata": {},
   "outputs": [
    {
     "name": "stdout",
     "output_type": "stream",
     "text": [
      "number1 = 22; number2 = 99\n"
     ]
    }
   ],
   "source": [
    "number1 = 99\n",
    "\n",
    "number2 = 22\n",
    "\n",
    "number1, number2 = (number2, number1)  #typo in number1 - fixed\n",
    "\n",
    "print(f'number1 = {number1}; number2 = {number2}')"
   ]
  },
  {
   "cell_type": "markdown",
   "id": "1aa8edcb-0f36-4f89-8a7e-a269091abc4c",
   "metadata": {},
   "source": [
    "# Dasha Davis accessing indices and values with built-in function enumerate"
   ]
  },
  {
   "cell_type": "code",
   "execution_count": 57,
   "id": "85d09185-8833-4b51-ac18-0d689d99f17d",
   "metadata": {},
   "outputs": [
    {
     "data": {
      "text/plain": [
       "[(0, 'red'), (1, 'orange'), (2, 'yellow')]"
      ]
     },
     "execution_count": 57,
     "metadata": {},
     "output_type": "execute_result"
    }
   ],
   "source": [
    "colors = ['red', 'orange', 'yellow']\n",
    "\n",
    "list(enumerate(colors))"
   ]
  },
  {
   "cell_type": "code",
   "execution_count": 58,
   "id": "9a60ee81-cc62-44f5-a3a2-eb42e6770dff",
   "metadata": {},
   "outputs": [
    {
     "name": "stdout",
     "output_type": "stream",
     "text": [
      "0:  red\n",
      "1:  orange\n",
      "2:  yellow\n"
     ]
    }
   ],
   "source": [
    "#the 'for' loop unpacks ech tuple returned by enumerate into the variables index and value and displays them:\n",
    "\n",
    "for index, value in enumerate(colors):\n",
    "    print(f'{index}:  {value}')"
   ]
  },
  {
   "cell_type": "code",
   "execution_count": null,
   "id": "75fb90a0-5c61-4a0e-8a40-4305c55827e9",
   "metadata": {},
   "outputs": [],
   "source": []
  },
  {
   "cell_type": "code",
   "execution_count": null,
   "id": "a471c744-4ea1-47f5-be3a-53bd9318f0e6",
   "metadata": {},
   "outputs": [],
   "source": []
  },
  {
   "cell_type": "markdown",
   "id": "7b32b244-e942-43b7-ac06-5b60d573685c",
   "metadata": {},
   "source": [
    "# Dasha Davis, Section 5.5, p 166"
   ]
  },
  {
   "cell_type": "code",
   "execution_count": 59,
   "id": "a5c4b591-dc30-4847-bf6c-1695652e7a6f",
   "metadata": {},
   "outputs": [
    {
     "data": {
      "text/plain": [
       "[5, 7, 11, 13]"
      ]
     },
     "execution_count": 59,
     "metadata": {},
     "output_type": "execute_result"
    }
   ],
   "source": [
    "#creating slicing of the elements at indices 2 through 5 of the list\n",
    "numbers = [2, 3, 5, 7, 11, 13, 17, 19]\n",
    "\n",
    "numbers [2:6] #remember to print through the 5th indices, your ending index has to be the next index greater\n",
    "# the original list is not modified"
   ]
  },
  {
   "cell_type": "code",
   "execution_count": null,
   "id": "1ab2ba13-fe6f-4292-b713-607c049bdad9",
   "metadata": {},
   "outputs": [],
   "source": [
    "#specifying a slice with ony an ending index, pl 167"
   ]
  },
  {
   "cell_type": "markdown",
   "id": "230aa23c-bbf0-427e-8559-ee20d535b887",
   "metadata": {},
   "source": [
    "## if you omit the starting index, 0 is assumed. "
   ]
  },
  {
   "cell_type": "code",
   "execution_count": 60,
   "id": "5fd1ba43-f767-40a2-bc6b-4b375b5527e7",
   "metadata": {},
   "outputs": [
    {
     "data": {
      "text/plain": [
       "[2, 3, 5, 7, 11, 13]"
      ]
     },
     "execution_count": 60,
     "metadata": {},
     "output_type": "execute_result"
    }
   ],
   "source": [
    "numbers [:6]"
   ]
  },
  {
   "cell_type": "code",
   "execution_count": null,
   "id": "a20248d6-1a46-4e4a-8cf6-84b28f1e1510",
   "metadata": {},
   "outputs": [],
   "source": [
    "#specifying a slice with only a starting index"
   ]
  },
  {
   "cell_type": "markdown",
   "id": "85e2c392-170f-4e0c-af32-1bac3c476f53",
   "metadata": {},
   "source": [
    "## if you omit the ending index, it assumes the sequence length"
   ]
  },
  {
   "cell_type": "code",
   "execution_count": 61,
   "id": "36706830-0cbc-4d25-9034-5964d110da67",
   "metadata": {},
   "outputs": [
    {
     "data": {
      "text/plain": [
       "[17, 19]"
      ]
     },
     "execution_count": 61,
     "metadata": {},
     "output_type": "execute_result"
    }
   ],
   "source": [
    "numbers[6:]"
   ]
  },
  {
   "cell_type": "code",
   "execution_count": 62,
   "id": "3bc25f16-86a9-4b50-856b-a71681972f8f",
   "metadata": {},
   "outputs": [
    {
     "data": {
      "text/plain": [
       "[2, 3, 5, 7, 11, 13, 17, 19]"
      ]
     },
     "execution_count": 62,
     "metadata": {},
     "output_type": "execute_result"
    }
   ],
   "source": [
    "#specifying slice with no indices, copies the entire sequence\n",
    "numbers[:]"
   ]
  },
  {
   "cell_type": "code",
   "execution_count": null,
   "id": "b471155d-b127-447a-8e9c-0534c367bd22",
   "metadata": {},
   "outputs": [],
   "source": [
    "#slicing with steps"
   ]
  },
  {
   "cell_type": "code",
   "execution_count": 63,
   "id": "d71b2d4c-c556-4c6e-9605-5c54f781a837",
   "metadata": {},
   "outputs": [
    {
     "data": {
      "text/plain": [
       "[2, 5, 11, 17]"
      ]
     },
     "execution_count": 63,
     "metadata": {},
     "output_type": "execute_result"
    }
   ],
   "source": [
    "#creating slicing of the elements at indices 2 through 5 of the list\n",
    "numbers = [2, 3, 5, 7, 11, 13, 17, 19]\n",
    "\n",
    "numbers[::2] #every other one"
   ]
  },
  {
   "cell_type": "code",
   "execution_count": 64,
   "id": "f2d87609-110d-4fa2-a59b-dc2305d372c7",
   "metadata": {},
   "outputs": [
    {
     "data": {
      "text/plain": [
       "[19, 17, 13, 11, 7, 5, 3, 2]"
      ]
     },
     "execution_count": 64,
     "metadata": {},
     "output_type": "execute_result"
    }
   ],
   "source": [
    "numbers = [2, 3, 5, 7, 11, 13, 17, 19]\n",
    "\n",
    "#slicing with negative indices and steps\n",
    "#negative steps go in reverse, starting from the end\n",
    "\n",
    "numbers[::-1]"
   ]
  },
  {
   "cell_type": "code",
   "execution_count": null,
   "id": "f73c8c7a-1cdd-4e86-ac93-f9015252384c",
   "metadata": {},
   "outputs": [],
   "source": [
    "#modifying lists via slices"
   ]
  },
  {
   "cell_type": "code",
   "execution_count": null,
   "id": "34879904-2873-4f73-b25d-660658396811",
   "metadata": {},
   "outputs": [],
   "source": [
    "#replacing first 3 elements, leaving the rest unchanged"
   ]
  },
  {
   "cell_type": "code",
   "execution_count": null,
   "id": "8c9d9a48-f3ab-40cb-b627-b8ab7e566424",
   "metadata": {},
   "outputs": [],
   "source": []
  },
  {
   "cell_type": "code",
   "execution_count": 65,
   "id": "5079cf8f-0119-410a-9366-15c42cd4eec9",
   "metadata": {},
   "outputs": [
    {
     "data": {
      "text/plain": [
       "['two', 'three', 'five', 7, 11, 13, 17, 19]"
      ]
     },
     "execution_count": 65,
     "metadata": {},
     "output_type": "execute_result"
    }
   ],
   "source": [
    "numbers = [2, 3, 5, 7, 11, 13, 17, 19]\n",
    "\n",
    "numbers[0:3] = ['two', 'three', 'five']\n",
    "\n",
    "numbers\n",
    "\n"
   ]
  },
  {
   "cell_type": "code",
   "execution_count": null,
   "id": "fb84c706-7bfb-42c8-a61d-6ad4ca39e51e",
   "metadata": {},
   "outputs": [],
   "source": []
  },
  {
   "cell_type": "code",
   "execution_count": 66,
   "id": "9d8f9765-6bfd-443a-b8f1-43616b51103f",
   "metadata": {},
   "outputs": [
    {
     "data": {
      "text/plain": [
       "[7, 11, 13, 17, 19]"
      ]
     },
     "execution_count": 66,
     "metadata": {},
     "output_type": "execute_result"
    }
   ],
   "source": [
    "#empty list deletes only the first 3 elements by assigning an empty list to the 3-element slice\n",
    "\n",
    "numbers[0:3] = []\n",
    "\n",
    "numbers"
   ]
  },
  {
   "cell_type": "code",
   "execution_count": 67,
   "id": "ebf52809-70a1-459b-832b-42bbbfc78483",
   "metadata": {},
   "outputs": [
    {
     "data": {
      "text/plain": [
       "[100, 3, 100, 7, 100, 13, 100, 19]"
      ]
     },
     "execution_count": 67,
     "metadata": {},
     "output_type": "execute_result"
    }
   ],
   "source": [
    "numbers = [2, 3, 5, 7, 11, 13, 17, 19]\n",
    "\n",
    "numbers[0::2] = [100, 100, 100, 100]\n",
    "\n",
    "numbers\n",
    "\n"
   ]
  },
  {
   "cell_type": "code",
   "execution_count": 22,
   "id": "8dea7670-a0c9-4c3a-a8ea-c1e347ab68b4",
   "metadata": {},
   "outputs": [
    {
     "data": {
      "text/plain": [
       "1928940458752"
      ]
     },
     "execution_count": 22,
     "metadata": {},
     "output_type": "execute_result"
    }
   ],
   "source": [
    "id(numbers)"
   ]
  },
  {
   "cell_type": "markdown",
   "id": "fd66272a-caae-437c-835c-5c4caed992a9",
   "metadata": {},
   "source": [
    "## I'm not sure why this number does not agree with the number on pg. 168 - 4434456648"
   ]
  },
  {
   "cell_type": "code",
   "execution_count": 20,
   "id": "312ac6e5-cb8e-406d-a765-5e2c4a946eab",
   "metadata": {},
   "outputs": [
    {
     "data": {
      "text/plain": [
       "[]"
      ]
     },
     "execution_count": 20,
     "metadata": {},
     "output_type": "execute_result"
    }
   ],
   "source": [
    "numbers[:] = []\n",
    "\n",
    "numbers"
   ]
  },
  {
   "cell_type": "code",
   "execution_count": null,
   "id": "8b6ff86b-f98b-46f4-ae32-781a010ddff5",
   "metadata": {},
   "outputs": [],
   "source": [
    "id(numbers)"
   ]
  },
  {
   "cell_type": "markdown",
   "id": "67718030-cc04-4d26-8e86-089b9b226f1a",
   "metadata": {},
   "source": [
    "# 5.5 Self Check #3"
   ]
  },
  {
   "cell_type": "code",
   "execution_count": 16,
   "id": "5e80c7af-0bf5-45d7-9151-c67c87a71c1b",
   "metadata": {},
   "outputs": [
    {
     "data": {
      "text/plain": [
       "[1, 2, 3, 4, 5, 6, 7, 8, 9, 10, 11, 12, 13, 14, 15]"
      ]
     },
     "execution_count": 16,
     "metadata": {},
     "output_type": "execute_result"
    }
   ],
   "source": [
    "numbers = list(range(1, 16))\n",
    "\n",
    "numbers"
   ]
  },
  {
   "cell_type": "code",
   "execution_count": 17,
   "id": "c5b0863e-c6df-45a3-b8b3-c87c28f0efd7",
   "metadata": {},
   "outputs": [
    {
     "data": {
      "text/plain": [
       "[2, 4, 6, 8, 10, 12, 14]"
      ]
     },
     "execution_count": 17,
     "metadata": {},
     "output_type": "execute_result"
    }
   ],
   "source": [
    "numbers[1:len(numbers):2]"
   ]
  },
  {
   "cell_type": "code",
   "execution_count": 88,
   "id": "1aae3a28-6d47-4d31-a285-162f97313840",
   "metadata": {},
   "outputs": [
    {
     "data": {
      "text/plain": [
       "[1, 2, 3, 4, 5, 6, 7, 8, 9, 10, 11, 12, 13, 14, 15]"
      ]
     },
     "execution_count": 88,
     "metadata": {},
     "output_type": "execute_result"
    }
   ],
   "source": [
    "numbers = list(range(1, 16))\n",
    "\n",
    "numbers"
   ]
  },
  {
   "cell_type": "code",
   "execution_count": 89,
   "id": "e01c1093-f40c-4aa0-ac03-9ac474902dd9",
   "metadata": {},
   "outputs": [
    {
     "data": {
      "text/plain": [
       "[1, 2, 3, 4, 5, 0, 0, 0, 0, 0, 11, 12, 13, 14, 15]"
      ]
     },
     "execution_count": 89,
     "metadata": {},
     "output_type": "execute_result"
    }
   ],
   "source": [
    "numbers[5:10] = [0] * len(numbers[5:10])\n",
    "\n",
    "numbers"
   ]
  },
  {
   "cell_type": "code",
   "execution_count": 91,
   "id": "e5efd852-efe3-400d-9f81-4ab9c300c63a",
   "metadata": {},
   "outputs": [
    {
     "data": {
      "text/plain": [
       "[1, 2, 3, 4, 5]"
      ]
     },
     "execution_count": 91,
     "metadata": {},
     "output_type": "execute_result"
    }
   ],
   "source": [
    "numbers[5:] = []\n",
    "\n",
    "numbers"
   ]
  },
  {
   "cell_type": "code",
   "execution_count": 93,
   "id": "5f1718a7-b144-4631-bcc4-c231d9527105",
   "metadata": {},
   "outputs": [
    {
     "data": {
      "text/plain": [
       "[]"
      ]
     },
     "execution_count": 93,
     "metadata": {},
     "output_type": "execute_result"
    }
   ],
   "source": [
    "numbers[:] = []\n",
    "\n",
    "numbers"
   ]
  },
  {
   "cell_type": "code",
   "execution_count": null,
   "id": "b050748d-d670-4e88-9877-b3ccc2a78743",
   "metadata": {},
   "outputs": [],
   "source": []
  },
  {
   "cell_type": "markdown",
   "id": "bfa3179e-e307-4ce7-aa9d-85730c916b53",
   "metadata": {},
   "source": [
    "# Dasha Davis Section 5.6, pg. 169"
   ]
  },
  {
   "cell_type": "code",
   "execution_count": null,
   "id": "1dc19d0c-6e31-4cae-b655-cf0d9a1a93e8",
   "metadata": {},
   "outputs": [],
   "source": [
    "#deleting the element at a specific list index"
   ]
  },
  {
   "cell_type": "code",
   "execution_count": 94,
   "id": "98cfa4ca-26a5-4296-aad2-2e1b84564ee8",
   "metadata": {},
   "outputs": [
    {
     "data": {
      "text/plain": [
       "[0, 1, 2, 3, 4, 5, 6, 7, 8, 9]"
      ]
     },
     "execution_count": 94,
     "metadata": {},
     "output_type": "execute_result"
    }
   ],
   "source": [
    "numbers = list(range(0, 10))\n",
    "\n",
    "numbers"
   ]
  },
  {
   "cell_type": "code",
   "execution_count": 95,
   "id": "25baf93c-abbd-4825-9651-8aae1ad1aac5",
   "metadata": {},
   "outputs": [
    {
     "data": {
      "text/plain": [
       "[0, 1, 2, 3, 4, 5, 6, 7, 8]"
      ]
     },
     "execution_count": 95,
     "metadata": {},
     "output_type": "execute_result"
    }
   ],
   "source": [
    "del numbers[-1]\n",
    "\n",
    "numbers"
   ]
  },
  {
   "cell_type": "code",
   "execution_count": null,
   "id": "50b53ba1-352f-46b6-8e45-c9a0d59f750f",
   "metadata": {},
   "outputs": [],
   "source": [
    "# deleting a slice from a list"
   ]
  },
  {
   "cell_type": "code",
   "execution_count": 96,
   "id": "1719c843-df68-4d68-844a-cac1636c4d3f",
   "metadata": {},
   "outputs": [
    {
     "data": {
      "text/plain": [
       "[2, 3, 4, 5, 6, 7, 8]"
      ]
     },
     "execution_count": 96,
     "metadata": {},
     "output_type": "execute_result"
    }
   ],
   "source": [
    "del numbers[0:2]\n",
    "\n",
    "numbers"
   ]
  },
  {
   "cell_type": "code",
   "execution_count": null,
   "id": "da3b7c6c-e1e9-4df8-8e1b-e5f2e0211ff6",
   "metadata": {},
   "outputs": [],
   "source": [
    "#using a step in a slice to delete every other element in a list"
   ]
  },
  {
   "cell_type": "code",
   "execution_count": 97,
   "id": "bbe3705b-a824-4cde-936c-b90a9a63cb1a",
   "metadata": {},
   "outputs": [
    {
     "data": {
      "text/plain": [
       "[3, 5, 7]"
      ]
     },
     "execution_count": 97,
     "metadata": {},
     "output_type": "execute_result"
    }
   ],
   "source": [
    "del numbers[::2]\n",
    "\n",
    "numbers"
   ]
  },
  {
   "cell_type": "code",
   "execution_count": null,
   "id": "1a9afd88-356a-408e-b9f9-a4fc3041ac11",
   "metadata": {},
   "outputs": [],
   "source": [
    "#deleting all of the list's elements"
   ]
  },
  {
   "cell_type": "code",
   "execution_count": 98,
   "id": "85ba422f-8c00-4be9-a9ae-6cc154ba0f88",
   "metadata": {},
   "outputs": [
    {
     "data": {
      "text/plain": [
       "[]"
      ]
     },
     "execution_count": 98,
     "metadata": {},
     "output_type": "execute_result"
    }
   ],
   "source": [
    "del numbers[:]\n",
    "\n",
    "numbers"
   ]
  },
  {
   "cell_type": "code",
   "execution_count": 99,
   "id": "54c4adde-6b10-46c1-9c9d-853e00058000",
   "metadata": {},
   "outputs": [],
   "source": [
    "#deleting variable from current session"
   ]
  },
  {
   "cell_type": "code",
   "execution_count": 100,
   "id": "5fa766ef-b782-42e9-87d7-638226067d87",
   "metadata": {},
   "outputs": [
    {
     "ename": "NameError",
     "evalue": "name 'numbers' is not defined",
     "output_type": "error",
     "traceback": [
      "\u001b[1;31m---------------------------------------------------------------------------\u001b[0m",
      "\u001b[1;31mNameError\u001b[0m                                 Traceback (most recent call last)",
      "Input \u001b[1;32mIn [100]\u001b[0m, in \u001b[0;36m<cell line: 3>\u001b[1;34m()\u001b[0m\n\u001b[0;32m      1\u001b[0m \u001b[38;5;28;01mdel\u001b[39;00m numbers\n\u001b[1;32m----> 3\u001b[0m \u001b[43mnumbers\u001b[49m\n",
      "\u001b[1;31mNameError\u001b[0m: name 'numbers' is not defined"
     ]
    }
   ],
   "source": [
    "del numbers\n",
    "\n",
    "numbers #will cause a name error"
   ]
  },
  {
   "cell_type": "markdown",
   "id": "4b9b8955-a6bb-4e4d-bd3b-caac3fad6fc1",
   "metadata": {},
   "source": [
    "## Self Check 5.6"
   ]
  },
  {
   "cell_type": "code",
   "execution_count": 101,
   "id": "5ac98e7c-4273-4fda-a7bb-06ba0141bb62",
   "metadata": {},
   "outputs": [
    {
     "data": {
      "text/plain": [
       "[1, 2, 3, 4, 5, 6, 7, 8, 9, 10, 11, 12, 13, 14, 15]"
      ]
     },
     "execution_count": 101,
     "metadata": {},
     "output_type": "execute_result"
    }
   ],
   "source": [
    "numbers = list(range(1, 16))\n",
    "\n",
    "numbers"
   ]
  },
  {
   "cell_type": "code",
   "execution_count": 102,
   "id": "74531823-6a31-4e52-9b60-b83963fb7670",
   "metadata": {},
   "outputs": [
    {
     "data": {
      "text/plain": [
       "[5, 6, 7, 8, 9, 10, 11, 12, 13, 14, 15]"
      ]
     },
     "execution_count": 102,
     "metadata": {},
     "output_type": "execute_result"
    }
   ],
   "source": [
    "del numbers[0:4]\n",
    "\n",
    "numbers"
   ]
  },
  {
   "cell_type": "code",
   "execution_count": 103,
   "id": "0264a2d1-2350-4c10-8537-6fb56e99198c",
   "metadata": {},
   "outputs": [
    {
     "data": {
      "text/plain": [
       "[6, 8, 10, 12, 14]"
      ]
     },
     "execution_count": 103,
     "metadata": {},
     "output_type": "execute_result"
    }
   ],
   "source": [
    "del numbers[::2]\n",
    "\n",
    "numbers"
   ]
  },
  {
   "cell_type": "code",
   "execution_count": null,
   "id": "9e30b547-3ac4-4d7e-ad7f-7460110b2872",
   "metadata": {},
   "outputs": [],
   "source": []
  },
  {
   "cell_type": "markdown",
   "id": "a6c34bd3-71c7-4952-9fb0-30b38b5b9360",
   "metadata": {},
   "source": [
    "## 5.7, pg. 171"
   ]
  },
  {
   "cell_type": "code",
   "execution_count": null,
   "id": "0affca8b-d523-4a8b-a8eb-49100cbd4f90",
   "metadata": {},
   "outputs": [],
   "source": [
    "#Modify_elements' items parameter receives a reference to the original list - modifies each element"
   ]
  },
  {
   "cell_type": "code",
   "execution_count": 107,
   "id": "78112fcc-c524-43f1-9434-d810a7456bbc",
   "metadata": {},
   "outputs": [
    {
     "data": {
      "text/plain": [
       "[20, 6, 14, 2, 18]"
      ]
     },
     "execution_count": 107,
     "metadata": {},
     "output_type": "execute_result"
    }
   ],
   "source": [
    "def modify_elements(items):\n",
    "    for i in range(len(items)):\n",
    "        items[i] *= 2\n",
    "        \n",
    "numbers = [10, 3, 7, 1, 9]\n",
    "\n",
    "modify_elements(numbers)\n",
    "\n",
    "numbers"
   ]
  },
  {
   "cell_type": "code",
   "execution_count": null,
   "id": "6bdd9af8-a719-4b11-a5bd-320a75b4e84f",
   "metadata": {},
   "outputs": [],
   "source": []
  },
  {
   "cell_type": "code",
   "execution_count": null,
   "id": "b1c3c426-c751-4876-bc1f-c992a09a9488",
   "metadata": {},
   "outputs": [],
   "source": [
    "#passing a tuple to a function, attempting to modify the tuple's immutable elements results in TypeError"
   ]
  },
  {
   "cell_type": "code",
   "execution_count": 108,
   "id": "10309c84-daa8-4fd7-9a68-f9ed7b987cf9",
   "metadata": {},
   "outputs": [
    {
     "data": {
      "text/plain": [
       "(10, 20, 30)"
      ]
     },
     "execution_count": 108,
     "metadata": {},
     "output_type": "execute_result"
    }
   ],
   "source": [
    "numbers_tuple = (10, 20, 30)\n",
    "\n",
    "numbers_tuple"
   ]
  },
  {
   "cell_type": "code",
   "execution_count": 109,
   "id": "1f2de5a1-3682-4aae-8e3b-54dd5e476538",
   "metadata": {},
   "outputs": [
    {
     "ename": "TypeError",
     "evalue": "'tuple' object does not support item assignment",
     "output_type": "error",
     "traceback": [
      "\u001b[1;31m---------------------------------------------------------------------------\u001b[0m",
      "\u001b[1;31mTypeError\u001b[0m                                 Traceback (most recent call last)",
      "Input \u001b[1;32mIn [109]\u001b[0m, in \u001b[0;36m<cell line: 1>\u001b[1;34m()\u001b[0m\n\u001b[1;32m----> 1\u001b[0m \u001b[43mmodify_elements\u001b[49m\u001b[43m(\u001b[49m\u001b[43mnumbers_tuple\u001b[49m\u001b[43m)\u001b[49m\n",
      "Input \u001b[1;32mIn [107]\u001b[0m, in \u001b[0;36mmodify_elements\u001b[1;34m(items)\u001b[0m\n\u001b[0;32m      1\u001b[0m \u001b[38;5;28;01mdef\u001b[39;00m \u001b[38;5;21mmodify_elements\u001b[39m(items):\n\u001b[0;32m      2\u001b[0m     \u001b[38;5;28;01mfor\u001b[39;00m i \u001b[38;5;129;01min\u001b[39;00m \u001b[38;5;28mrange\u001b[39m(\u001b[38;5;28mlen\u001b[39m(items)):\n\u001b[1;32m----> 3\u001b[0m         \u001b[43mitems\u001b[49m\u001b[43m[\u001b[49m\u001b[43mi\u001b[49m\u001b[43m]\u001b[49m \u001b[38;5;241m*\u001b[39m\u001b[38;5;241m=\u001b[39m \u001b[38;5;241m2\u001b[39m\n",
      "\u001b[1;31mTypeError\u001b[0m: 'tuple' object does not support item assignment"
     ]
    }
   ],
   "source": [
    "modify_elements(numbers_tuple)"
   ]
  },
  {
   "cell_type": "code",
   "execution_count": null,
   "id": "60665713-255f-4463-83ec-4b9d1b0c0959",
   "metadata": {},
   "outputs": [],
   "source": [
    "# only items in a list are mutable in a tuple can be modified"
   ]
  },
  {
   "cell_type": "code",
   "execution_count": null,
   "id": "8b79f8e1-6fed-487d-94a2-a8beef240714",
   "metadata": {},
   "outputs": [],
   "source": []
  },
  {
   "cell_type": "markdown",
   "id": "26e6bc42-f3a9-41c9-92fc-e3b6f3a07aa5",
   "metadata": {},
   "source": [
    "## 5.8, Sorting Lists"
   ]
  },
  {
   "cell_type": "code",
   "execution_count": null,
   "id": "ac15d672-8d46-40f2-9b02-1e0a85e03493",
   "metadata": {},
   "outputs": [],
   "source": [
    "#'sort\" modifies a list in ascending order:"
   ]
  },
  {
   "cell_type": "code",
   "execution_count": 110,
   "id": "974e088b-319f-4ddb-9435-1d44ebd29d0b",
   "metadata": {},
   "outputs": [
    {
     "data": {
      "text/plain": [
       "[1, 2, 3, 4, 5, 6, 7, 8, 9, 10]"
      ]
     },
     "execution_count": 110,
     "metadata": {},
     "output_type": "execute_result"
    }
   ],
   "source": [
    "numbers = [10, 3, 7, 1, 9, 4, 2, 8, 5, 6]\n",
    "\n",
    "numbers.sort()\n",
    "\n",
    "numbers"
   ]
  },
  {
   "cell_type": "code",
   "execution_count": null,
   "id": "269d0b03-9c92-41be-b402-92a2ab057de1",
   "metadata": {},
   "outputs": [],
   "source": [
    "#'sort' in descending order - use 'sort' but with the keyworkd argument 'reverse' set to true (False is default)"
   ]
  },
  {
   "cell_type": "code",
   "execution_count": 111,
   "id": "bb9d87cc-438c-4c74-afc1-30fca35f6755",
   "metadata": {},
   "outputs": [
    {
     "data": {
      "text/plain": [
       "[10, 9, 8, 7, 6, 5, 4, 3, 2, 1]"
      ]
     },
     "execution_count": 111,
     "metadata": {},
     "output_type": "execute_result"
    }
   ],
   "source": [
    "numbers.sort(reverse=True)\n",
    "\n",
    "numbers"
   ]
  },
  {
   "cell_type": "code",
   "execution_count": null,
   "id": "1d8fa90e-f23e-4b00-b57e-242f4d2f5c9d",
   "metadata": {},
   "outputs": [],
   "source": [
    "#built-in function 'sorted' - returns a new list - original sequence is unmodified"
   ]
  },
  {
   "cell_type": "code",
   "execution_count": 113,
   "id": "afb80ca9-17a7-4089-bdc5-967902b44191",
   "metadata": {},
   "outputs": [
    {
     "data": {
      "text/plain": [
       "[1, 2, 3, 4, 5, 6, 7, 8, 9, 10]"
      ]
     },
     "execution_count": 113,
     "metadata": {},
     "output_type": "execute_result"
    }
   ],
   "source": [
    "numbers = [10, 3, 7, 1, 9, 4, 2, 8, 5, 6]\n",
    "\n",
    "ascending_numbers = sorted(numbers)\n",
    "\n",
    "ascending_numbers"
   ]
  },
  {
   "cell_type": "code",
   "execution_count": 114,
   "id": "9f0bed5a-af8d-4a5a-9bdb-7de6f71c5f62",
   "metadata": {},
   "outputs": [
    {
     "data": {
      "text/plain": [
       "[10, 3, 7, 1, 9, 4, 2, 8, 5, 6]"
      ]
     },
     "execution_count": 114,
     "metadata": {},
     "output_type": "execute_result"
    }
   ],
   "source": [
    "numbers"
   ]
  },
  {
   "cell_type": "code",
   "execution_count": null,
   "id": "a895ae74-8912-45e8-adbe-3dcd346dfa32",
   "metadata": {},
   "outputs": [],
   "source": [
    "#notice the original list did not change"
   ]
  },
  {
   "cell_type": "code",
   "execution_count": 115,
   "id": "5356bc70-34a2-48b4-9209-3a38075d2ee5",
   "metadata": {},
   "outputs": [
    {
     "data": {
      "text/plain": [
       "['a', 'b', 'c', 'd', 'e', 'f', 'g', 'h', 'i', 'j']"
      ]
     },
     "execution_count": 115,
     "metadata": {},
     "output_type": "execute_result"
    }
   ],
   "source": [
    "letters = 'fadgchjebi'\n",
    "\n",
    "ascending_letters = sorted(letters)\n",
    "\n",
    "ascending_letters"
   ]
  },
  {
   "cell_type": "code",
   "execution_count": null,
   "id": "02ec7a49-edbb-453d-959e-1116d6d223f9",
   "metadata": {},
   "outputs": [],
   "source": [
    "#ascending letters means alphabetical"
   ]
  },
  {
   "cell_type": "code",
   "execution_count": 116,
   "id": "34dd3a0e-b971-40ae-bd1d-2bc13a18dd6a",
   "metadata": {},
   "outputs": [
    {
     "data": {
      "text/plain": [
       "'fadgchjebi'"
      ]
     },
     "execution_count": 116,
     "metadata": {},
     "output_type": "execute_result"
    }
   ],
   "source": [
    "letters"
   ]
  },
  {
   "cell_type": "code",
   "execution_count": null,
   "id": "67549636-500f-4a86-b387-645d5618bda6",
   "metadata": {},
   "outputs": [],
   "source": [
    "#original list did not change"
   ]
  },
  {
   "cell_type": "code",
   "execution_count": 117,
   "id": "1391aca9-bfaa-436d-8722-18a09c0c43fe",
   "metadata": {},
   "outputs": [
    {
     "ename": "NameError",
     "evalue": "name 'sorting' is not defined",
     "output_type": "error",
     "traceback": [
      "\u001b[1;31m---------------------------------------------------------------------------\u001b[0m",
      "\u001b[1;31mNameError\u001b[0m                                 Traceback (most recent call last)",
      "Input \u001b[1;32mIn [117]\u001b[0m, in \u001b[0;36m<cell line: 3>\u001b[1;34m()\u001b[0m\n\u001b[0;32m      1\u001b[0m colors \u001b[38;5;241m=\u001b[39m (\u001b[38;5;124m'\u001b[39m\u001b[38;5;124mred\u001b[39m\u001b[38;5;124m'\u001b[39m, \u001b[38;5;124m'\u001b[39m\u001b[38;5;124morange\u001b[39m\u001b[38;5;124m'\u001b[39m, \u001b[38;5;124m'\u001b[39m\u001b[38;5;124myellow\u001b[39m\u001b[38;5;124m'\u001b[39m, \u001b[38;5;124m'\u001b[39m\u001b[38;5;124mgreen\u001b[39m\u001b[38;5;124m'\u001b[39m, \u001b[38;5;124m'\u001b[39m\u001b[38;5;124mblue\u001b[39m\u001b[38;5;124m'\u001b[39m)\n\u001b[1;32m----> 3\u001b[0m ascending_colors \u001b[38;5;241m=\u001b[39m \u001b[43msorting\u001b[49m(colors)\n\u001b[0;32m      5\u001b[0m ascending_colors\n",
      "\u001b[1;31mNameError\u001b[0m: name 'sorting' is not defined"
     ]
    }
   ],
   "source": [
    "colors = ('red', 'orange', 'yellow', 'green', 'blue')\n",
    "\n",
    "ascending_colors = sorting(colors)\n",
    "\n",
    "ascending_colors"
   ]
  },
  {
   "cell_type": "code",
   "execution_count": 119,
   "id": "a3057a2b-00e1-4adc-bc92-8bb448e18268",
   "metadata": {},
   "outputs": [
    {
     "data": {
      "text/plain": [
       "['blue', 'green', 'orange', 'red', 'yellow']"
      ]
     },
     "execution_count": 119,
     "metadata": {},
     "output_type": "execute_result"
    }
   ],
   "source": [
    "colors = ('red', 'orange', 'yellow', 'green', 'blue')\n",
    "\n",
    "ascending_colors = sorted(colors) #changed 'sorting' from previous to 'sorted'\n",
    "\n",
    "ascending_colors"
   ]
  },
  {
   "cell_type": "code",
   "execution_count": null,
   "id": "7f744482-4473-4fa3-93fe-86aa320ab6e3",
   "metadata": {},
   "outputs": [],
   "source": []
  },
  {
   "cell_type": "markdown",
   "id": "ffed03c5-e7b6-4f1b-a8dd-069eb0817197",
   "metadata": {},
   "source": [
    "# 5.8 Self Check #3"
   ]
  },
  {
   "cell_type": "code",
   "execution_count": 120,
   "id": "65cc7890-66cf-45be-8b28-a2404000a9df",
   "metadata": {},
   "outputs": [
    {
     "data": {
      "text/plain": [
       "['Bacon', 'Cookies', 'Grapes', 'apples', 'pizza', 'steak']"
      ]
     },
     "execution_count": 120,
     "metadata": {},
     "output_type": "execute_result"
    }
   ],
   "source": [
    "foods = ['Cookies', 'pizza', 'Grapes', 'apples', 'steak', 'Bacon']\n",
    "\n",
    "foods.sort()\n",
    "\n",
    "foods"
   ]
  },
  {
   "cell_type": "markdown",
   "id": "2ddea11f-649b-417a-b01d-f2840aec7dde",
   "metadata": {},
   "source": [
    "# Dr. Case, there seems to be an error in the assignment, # 29 for Part 1 (in Canvas). It says that uppercase letters have a higher numerical value than lowercase letters, but the book states on pg. 173 that uppercase letters are lower than the values of lowercase letters."
   ]
  },
  {
   "cell_type": "code",
   "execution_count": null,
   "id": "1f122485-53b8-460e-8e6e-00c9ffdfdc0d",
   "metadata": {},
   "outputs": [],
   "source": []
  },
  {
   "cell_type": "markdown",
   "id": "22e9bdac-9f68-418d-ac8e-6fb26d6adc2c",
   "metadata": {},
   "source": [
    "## Section 5.9 - searching sequences, p 174"
   ]
  },
  {
   "cell_type": "code",
   "execution_count": 123,
   "id": "62b83f8b-2913-4a2b-9d3d-8a58165337f5",
   "metadata": {},
   "outputs": [
    {
     "data": {
      "text/plain": [
       "6"
      ]
     },
     "execution_count": 123,
     "metadata": {},
     "output_type": "execute_result"
    }
   ],
   "source": [
    "numbers = [3, 7, 1, 4, 2, 8, 5, 6]\n",
    "\n",
    "numbers.index(5)"
   ]
  },
  {
   "cell_type": "code",
   "execution_count": null,
   "id": "40bf82a1-5f70-4c76-a81f-c4759528ec94",
   "metadata": {},
   "outputs": [],
   "source": [
    "# a ValueError occurs if the value is not in the list (see above)"
   ]
  },
  {
   "cell_type": "code",
   "execution_count": null,
   "id": "dc3e7b94-0fb2-40fa-9a15-0a067e3a8629",
   "metadata": {},
   "outputs": [],
   "source": []
  },
  {
   "cell_type": "code",
   "execution_count": null,
   "id": "178b56d0-0a6a-4732-bd8f-bd7a1212882c",
   "metadata": {},
   "outputs": [],
   "source": [
    "#searching part of a list (indicating the start),  using *= to multiply a sequence - adding a sequence to itself multiple times"
   ]
  },
  {
   "cell_type": "code",
   "execution_count": 124,
   "id": "3998a0f6-3165-4f00-b847-b731bc9cc1e7",
   "metadata": {},
   "outputs": [
    {
     "data": {
      "text/plain": [
       "[3, 7, 1, 4, 2, 8, 5, 6, 3, 7, 1, 4, 2, 8, 5, 6]"
      ]
     },
     "execution_count": 124,
     "metadata": {},
     "output_type": "execute_result"
    }
   ],
   "source": [
    "numbers *= 2 #multiplying sequence x2 (2 times)\n",
    "\n",
    "numbers"
   ]
  },
  {
   "cell_type": "code",
   "execution_count": 125,
   "id": "210038bf-cdb0-4b39-8b88-6e6079ef31da",
   "metadata": {},
   "outputs": [
    {
     "data": {
      "text/plain": [
       "14"
      ]
     },
     "execution_count": 125,
     "metadata": {},
     "output_type": "execute_result"
    }
   ],
   "source": [
    "numbers.index(5, 7)  #searches list for the value 5, starting with index 7 and continuing to the end"
   ]
  },
  {
   "cell_type": "code",
   "execution_count": null,
   "id": "820811e5-4032-4d53-b69f-99441ffec10b",
   "metadata": {},
   "outputs": [],
   "source": [
    "#indicating the start and end indices"
   ]
  },
  {
   "cell_type": "code",
   "execution_count": 126,
   "id": "a6d3fd5c-3493-4d5b-be0f-5b2db2b45e54",
   "metadata": {},
   "outputs": [
    {
     "data": {
      "text/plain": [
       "1"
      ]
     },
     "execution_count": 126,
     "metadata": {},
     "output_type": "execute_result"
    }
   ],
   "source": [
    "numbers.index(7, 0, 4) #looks for value 7, starting with indices 0 through 3"
   ]
  },
  {
   "cell_type": "code",
   "execution_count": 127,
   "id": "c988ec96-fc42-4277-a2b6-ecb50652cbc8",
   "metadata": {},
   "outputs": [],
   "source": [
    "#operators 'in' and 'not in'"
   ]
  },
  {
   "cell_type": "code",
   "execution_count": 128,
   "id": "7f5400f8-0db8-4f34-891e-09236888156a",
   "metadata": {},
   "outputs": [
    {
     "data": {
      "text/plain": [
       "False"
      ]
     },
     "execution_count": 128,
     "metadata": {},
     "output_type": "execute_result"
    }
   ],
   "source": [
    "1000 in numbers  #'in' tests whether its right side's iterable contains the left side's value"
   ]
  },
  {
   "cell_type": "code",
   "execution_count": 129,
   "id": "bfcf126d-7202-418a-bbe8-68283ad7d1ba",
   "metadata": {},
   "outputs": [
    {
     "data": {
      "text/plain": [
       "True"
      ]
     },
     "execution_count": 129,
     "metadata": {},
     "output_type": "execute_result"
    }
   ],
   "source": [
    "5 in numbers"
   ]
  },
  {
   "cell_type": "code",
   "execution_count": 130,
   "id": "1cc21d5c-9b13-4964-bc6f-edd08c469bcf",
   "metadata": {},
   "outputs": [
    {
     "data": {
      "text/plain": [
       "True"
      ]
     },
     "execution_count": 130,
     "metadata": {},
     "output_type": "execute_result"
    }
   ],
   "source": [
    "1000 not in numbers  # 'not in' test whether the right side DOES NOT containt the left side's value"
   ]
  },
  {
   "cell_type": "code",
   "execution_count": 131,
   "id": "95706241-a4dd-45f6-a602-a5ad4d082e29",
   "metadata": {},
   "outputs": [
    {
     "data": {
      "text/plain": [
       "False"
      ]
     },
     "execution_count": 131,
     "metadata": {},
     "output_type": "execute_result"
    }
   ],
   "source": [
    "5 not in numbers"
   ]
  },
  {
   "cell_type": "code",
   "execution_count": 132,
   "id": "57e46796-d3a5-48cf-82c3-15264eb38c0f",
   "metadata": {},
   "outputs": [
    {
     "name": "stdout",
     "output_type": "stream",
     "text": [
      "1000 not found\n"
     ]
    }
   ],
   "source": [
    "#using Operator 'in' to prevent a ValueError\n",
    "\n",
    "key = 1000\n",
    "\n",
    "if key in numbers:\n",
    "    print(f'found {key} at index {numbers.index(key)}')\n",
    "else:\n",
    "    print(f'{key} not found')"
   ]
  },
  {
   "cell_type": "code",
   "execution_count": 133,
   "id": "c52c03a9-c2e4-4ccb-a861-95334bd06b65",
   "metadata": {},
   "outputs": [],
   "source": [
    "#Built-in functions 'any' and 'all'"
   ]
  },
  {
   "cell_type": "code",
   "execution_count": null,
   "id": "0a22d22f-a47a-4032-bed9-da7f09b9dd59",
   "metadata": {},
   "outputs": [],
   "source": [
    "# 'any' returns True if any item in its iterable argument is True\n",
    "# 'all' returns True if all items in its iterable are True\n",
    "\n",
    "#nonzero values are True, and 0 is False - non-empty interable objects are trued, empty iterables are false"
   ]
  },
  {
   "cell_type": "code",
   "execution_count": null,
   "id": "c0b9f41d-4ded-4d10-a511-88a5f5835db9",
   "metadata": {},
   "outputs": [],
   "source": []
  },
  {
   "cell_type": "markdown",
   "id": "4a8b0206-c35b-4c83-bb0e-056f9b0bf25c",
   "metadata": {},
   "source": [
    "## 5.9 Self Check #3"
   ]
  },
  {
   "cell_type": "code",
   "execution_count": 134,
   "id": "e1c2f248-b8a6-49bd-8dce-70913d42b86b",
   "metadata": {},
   "outputs": [
    {
     "data": {
      "text/plain": [
       "True"
      ]
     },
     "execution_count": 134,
     "metadata": {},
     "output_type": "execute_result"
    }
   ],
   "source": [
    "#lists have brackets\n",
    "numbers = [67, 12, 46, 43, 13]\n",
    "\n",
    "43 in numbers"
   ]
  },
  {
   "cell_type": "code",
   "execution_count": 135,
   "id": "d800e25b-2dbb-400a-a688-c10f6c3949d2",
   "metadata": {},
   "outputs": [],
   "source": [
    "#that says it is there, but to know WHERE it is, have to do 'list method index'"
   ]
  },
  {
   "cell_type": "code",
   "execution_count": 136,
   "id": "9630391b-bfb5-43f3-8052-52266943856b",
   "metadata": {},
   "outputs": [
    {
     "data": {
      "text/plain": [
       "3"
      ]
     },
     "execution_count": 136,
     "metadata": {},
     "output_type": "execute_result"
    }
   ],
   "source": [
    "numbers.index(43)"
   ]
  },
  {
   "cell_type": "code",
   "execution_count": null,
   "id": "09115265-b215-4778-ae76-dad527c1a736",
   "metadata": {},
   "outputs": [],
   "source": [
    "# that tells us is is at index 3"
   ]
  },
  {
   "cell_type": "code",
   "execution_count": 137,
   "id": "d915a5b8-e399-4473-9ea8-baa2277e2459",
   "metadata": {},
   "outputs": [
    {
     "name": "stdout",
     "output_type": "stream",
     "text": [
      "44 not found\n"
     ]
    }
   ],
   "source": [
    "if 44 in numbers:\n",
    "    print('Found 44 at index: {numbers.index(44)}')\n",
    "else:\n",
    "    print('44 not found')"
   ]
  },
  {
   "cell_type": "code",
   "execution_count": null,
   "id": "0dc4687a-8861-4f6a-8a7d-6cfcc0a5b482",
   "metadata": {},
   "outputs": [],
   "source": []
  },
  {
   "cell_type": "markdown",
   "id": "744ee251-375a-4aaa-a126-0dd3b2281b76",
   "metadata": {},
   "source": [
    "## 5.12 List Comprehensions, pg. 179"
   ]
  },
  {
   "cell_type": "code",
   "execution_count": 138,
   "id": "3a411ff1-9f87-4bc7-9f27-d5f35cf07cb8",
   "metadata": {},
   "outputs": [],
   "source": [
    "#creating new lists"
   ]
  },
  {
   "cell_type": "code",
   "execution_count": 139,
   "id": "50e0a2a2-cec7-46f8-8703-960136e664e2",
   "metadata": {},
   "outputs": [
    {
     "data": {
      "text/plain": [
       "[1, 2, 3, 4, 5]"
      ]
     },
     "execution_count": 139,
     "metadata": {},
     "output_type": "execute_result"
    }
   ],
   "source": [
    "list1 = []\n",
    "\n",
    "for item in range(1, 6):\n",
    "    list1.append(item)\n",
    "    \n",
    "list1"
   ]
  },
  {
   "cell_type": "code",
   "execution_count": 140,
   "id": "94dba971-ff38-4fb6-a654-e7fa28090d45",
   "metadata": {},
   "outputs": [],
   "source": [
    "#using list comprehension to create a list of integers"
   ]
  },
  {
   "cell_type": "code",
   "execution_count": 141,
   "id": "3d493050-6122-4e37-b60b-7195207aa53b",
   "metadata": {},
   "outputs": [
    {
     "data": {
      "text/plain": [
       "[1, 2, 3, 4, 5]"
      ]
     },
     "execution_count": 141,
     "metadata": {},
     "output_type": "execute_result"
    }
   ],
   "source": [
    "list2 = [item for item in range(1, 6)]\n",
    "\n",
    "list2"
   ]
  },
  {
   "cell_type": "code",
   "execution_count": 142,
   "id": "4085c002-fbee-456f-a988-7aae8a80364b",
   "metadata": {},
   "outputs": [],
   "source": [
    "#mapping - map elements to new values, producing a result with the same number of elements as the original data"
   ]
  },
  {
   "cell_type": "code",
   "execution_count": 143,
   "id": "01b6cf80-fa57-49e3-b686-8c41eecc33b9",
   "metadata": {},
   "outputs": [
    {
     "data": {
      "text/plain": [
       "[1, 8, 27, 64, 125]"
      ]
     },
     "execution_count": 143,
     "metadata": {},
     "output_type": "execute_result"
    }
   ],
   "source": [
    "list3 = [item ** 3 for item in range(1, 6)] #maps each value in orginal list to its cube\n",
    "\n",
    "list3"
   ]
  },
  {
   "cell_type": "code",
   "execution_count": null,
   "id": "2f143a56-5218-4a47-8268-6f2beec47af6",
   "metadata": {},
   "outputs": [],
   "source": [
    "#filtering elements, producing list with fewer elements - use 'if clause'"
   ]
  },
  {
   "cell_type": "code",
   "execution_count": 144,
   "id": "64a677c5-68a0-4d11-86a1-693b3761a3b1",
   "metadata": {},
   "outputs": [
    {
     "data": {
      "text/plain": [
       "[2, 4, 6, 8, 10]"
      ]
     },
     "execution_count": 144,
     "metadata": {},
     "output_type": "execute_result"
    }
   ],
   "source": [
    "list4 = [item for item in range(1, 11) if item % 2 == 0]\n",
    "\n",
    "list4"
   ]
  },
  {
   "cell_type": "code",
   "execution_count": 145,
   "id": "92ad3352-eac6-4ab0-b5dd-c97d86ca05e6",
   "metadata": {},
   "outputs": [],
   "source": [
    "#List comprehension to create a new list by processing another list's elements, p. 180"
   ]
  },
  {
   "cell_type": "code",
   "execution_count": 146,
   "id": "2810f501-046a-4750-b17a-1c03152eaa8c",
   "metadata": {},
   "outputs": [
    {
     "data": {
      "text/plain": [
       "['RED', 'ORANGE', 'YELLOW', 'GREEN', 'BLUE']"
      ]
     },
     "execution_count": 146,
     "metadata": {},
     "output_type": "execute_result"
    }
   ],
   "source": [
    "colors = ['red', 'orange', 'yellow', 'green', 'blue']\n",
    "\n",
    "colors2 = [item.upper() for item in colors]\n",
    "\n",
    "colors2"
   ]
  },
  {
   "cell_type": "code",
   "execution_count": 147,
   "id": "95095bf4-e1b4-4e0c-9d85-5b3353610596",
   "metadata": {},
   "outputs": [
    {
     "data": {
      "text/plain": [
       "['red', 'orange', 'yellow', 'green', 'blue']"
      ]
     },
     "execution_count": 147,
     "metadata": {},
     "output_type": "execute_result"
    }
   ],
   "source": [
    "#puts all elements in the original list in uppercase letters without changing the original list\n",
    "\n",
    "colors"
   ]
  },
  {
   "cell_type": "markdown",
   "id": "206bc32e-fd13-42c3-975e-98b427875cba",
   "metadata": {},
   "source": [
    "## 5.12 Self Check #3"
   ]
  },
  {
   "cell_type": "code",
   "execution_count": 148,
   "id": "beb15407-83ba-4434-bd78-aa24e838bc8c",
   "metadata": {},
   "outputs": [
    {
     "data": {
      "text/plain": [
       "[(1, 1), (2, 8), (3, 27), (4, 64), (5, 125)]"
      ]
     },
     "execution_count": 148,
     "metadata": {},
     "output_type": "execute_result"
    }
   ],
   "source": [
    "cubes = [(x, x **3) for x in range(1, 6)]\n",
    "\n",
    "cubes"
   ]
  },
  {
   "cell_type": "markdown",
   "id": "1f804f33-c88a-4f79-922a-76ea552b947e",
   "metadata": {},
   "source": [
    "## 5.12 Self Check #4"
   ]
  },
  {
   "cell_type": "code",
   "execution_count": 150,
   "id": "39951cfb-e89a-48b3-a0f6-37114ba28f8b",
   "metadata": {},
   "outputs": [
    {
     "data": {
      "text/plain": [
       "[3, 6, 9, 12, 15, 18, 21, 24, 27]"
      ]
     },
     "execution_count": 150,
     "metadata": {},
     "output_type": "execute_result"
    }
   ],
   "source": [
    "multiples = [x for x in range(3, 30, 3)]\n",
    "             \n",
    "multiples"
   ]
  },
  {
   "cell_type": "code",
   "execution_count": null,
   "id": "979019f9-372a-4998-a7ad-66dfd9f47e7d",
   "metadata": {},
   "outputs": [],
   "source": []
  },
  {
   "cell_type": "markdown",
   "id": "b76a8aa8-3d03-43ef-bfd8-8e9276ae07a7",
   "metadata": {},
   "source": [
    "# 5.14, Filter, Map, and Reduce"
   ]
  },
  {
   "cell_type": "code",
   "execution_count": 151,
   "id": "147f00bd-82d6-432b-a4b4-4ce0ae6e24e7",
   "metadata": {},
   "outputs": [],
   "source": [
    "#built-in function 'filter'"
   ]
  },
  {
   "cell_type": "code",
   "execution_count": 153,
   "id": "48cf3a3b-f99e-4daa-b96d-b7c338dbfea9",
   "metadata": {},
   "outputs": [
    {
     "data": {
      "text/plain": [
       "[3, 7, 1, 9, 5]"
      ]
     },
     "execution_count": 153,
     "metadata": {},
     "output_type": "execute_result"
    }
   ],
   "source": [
    "numbers = [10, 3, 7, 1, 9, 4, 2, 8, 5, 6]\n",
    "\n",
    "def is_odd(x):\n",
    "    return x % 2 != 0\n",
    "\n",
    "list(filter(is_odd, numbers))"
   ]
  },
  {
   "cell_type": "code",
   "execution_count": null,
   "id": "4393f3a2-5d45-4698-8372-c4fdd8a313c9",
   "metadata": {},
   "outputs": [],
   "source": []
  },
  {
   "cell_type": "code",
   "execution_count": null,
   "id": "1fdcebb8-61df-4ef3-815d-cebf79be892e",
   "metadata": {},
   "outputs": [],
   "source": [
    "# Mapping a sequence's values to New Values, p. 183, using Lambda"
   ]
  },
  {
   "cell_type": "code",
   "execution_count": 154,
   "id": "1765a3fa-eedf-4cde-b624-7f0a6b4aa8c4",
   "metadata": {},
   "outputs": [
    {
     "data": {
      "text/plain": [
       "[10, 3, 7, 1, 9, 4, 2, 8, 5, 6]"
      ]
     },
     "execution_count": 154,
     "metadata": {},
     "output_type": "execute_result"
    }
   ],
   "source": [
    "numbers"
   ]
  },
  {
   "cell_type": "code",
   "execution_count": 155,
   "id": "0d09ac15-c0db-4ced-9edf-d605a0e57152",
   "metadata": {},
   "outputs": [
    {
     "data": {
      "text/plain": [
       "[100, 9, 49, 1, 81, 16, 4, 64, 25, 36]"
      ]
     },
     "execution_count": 155,
     "metadata": {},
     "output_type": "execute_result"
    }
   ],
   "source": [
    "list(map(lambda x: x ** 2, numbers))"
   ]
  },
  {
   "cell_type": "code",
   "execution_count": 156,
   "id": "a6fdd99d-e46f-4360-a980-7cc645d48a24",
   "metadata": {},
   "outputs": [],
   "source": [
    "#combining filter and map"
   ]
  },
  {
   "cell_type": "code",
   "execution_count": 157,
   "id": "92389332-0342-44c6-be6a-3bea3ec0b92c",
   "metadata": {},
   "outputs": [
    {
     "data": {
      "text/plain": [
       "[9, 49, 1, 81, 25]"
      ]
     },
     "execution_count": 157,
     "metadata": {},
     "output_type": "execute_result"
    }
   ],
   "source": [
    "list(map(lambda x: x ** 2, \n",
    "         filter(lambda x: x % 2 !=0, numbers)))"
   ]
  },
  {
   "cell_type": "code",
   "execution_count": null,
   "id": "c9d76fcc-51ee-4c29-a640-b8b2786a4df9",
   "metadata": {},
   "outputs": [],
   "source": []
  },
  {
   "cell_type": "markdown",
   "id": "ded1aed2-f84a-4abb-9ce0-c473a96a35b1",
   "metadata": {},
   "source": [
    "# 5.16 Two-dimensional Lists (tables)"
   ]
  },
  {
   "cell_type": "code",
   "execution_count": 158,
   "id": "4992bbcc-b1f3-4777-a6a6-0747723a0535",
   "metadata": {},
   "outputs": [
    {
     "name": "stdout",
     "output_type": "stream",
     "text": [
      "77 68 86 73 \n",
      "96 87 89 81 \n",
      "70 90 86 81 \n"
     ]
    }
   ],
   "source": [
    "a = [[77, 68, 86, 73], [96, 87, 89, 81], [70, 90, 86, 81]]\n",
    "\n",
    "for row in a:\n",
    "    for item in row:\n",
    "        print(item, end=' ')\n",
    "    print()"
   ]
  },
  {
   "cell_type": "code",
   "execution_count": null,
   "id": "54ff7a12-8fba-4eef-8af8-c42c4f7929a5",
   "metadata": {},
   "outputs": [],
   "source": []
  },
  {
   "cell_type": "markdown",
   "id": "f3e5978d-3855-4f7e-bb19-690c5a316fe7",
   "metadata": {},
   "source": [
    "## Dasha Davis Self Check 5.16 #4"
   ]
  },
  {
   "cell_type": "code",
   "execution_count": 161,
   "id": "f4c4f041-96fe-421e-b19f-cd1d81352520",
   "metadata": {},
   "outputs": [
    {
     "data": {
      "text/plain": [
       "10.166666666666666"
      ]
     },
     "execution_count": 161,
     "metadata": {},
     "output_type": "execute_result"
    }
   ],
   "source": [
    "t = [[10, 7, 3], [20, 4, 17]]\n",
    "\n",
    "total = 0\n",
    "\n",
    "items = 0\n",
    "\n",
    "for row in t:\n",
    "    for item in row:\n",
    "        total += item\n",
    "        items += 1\n",
    "        \n",
    "total/items"
   ]
  },
  {
   "cell_type": "code",
   "execution_count": 162,
   "id": "06dc10a2-0070-4238-b5b4-e366c8a9c2c8",
   "metadata": {},
   "outputs": [
    {
     "data": {
      "text/plain": [
       "10.166666666666666"
      ]
     },
     "execution_count": 162,
     "metadata": {},
     "output_type": "execute_result"
    }
   ],
   "source": [
    "total = 0\n",
    "\n",
    "items = 0\n",
    "\n",
    "for row in t:\n",
    "    total += sum(row)\n",
    "    items += len(row)\n",
    "    \n",
    "total/items"
   ]
  },
  {
   "cell_type": "code",
   "execution_count": null,
   "id": "830ddb94-1527-4413-b10d-45127d1a9ce8",
   "metadata": {},
   "outputs": [],
   "source": []
  },
  {
   "cell_type": "markdown",
   "id": "07a7288f-0dc3-413c-a5a9-f7fc62da5ee6",
   "metadata": {},
   "source": [
    "# Chapter 6"
   ]
  },
  {
   "cell_type": "code",
   "execution_count": 165,
   "id": "ff18c2c3-6c57-4621-ac53-c8b54d97cd30",
   "metadata": {},
   "outputs": [],
   "source": [
    "#interating through a dictionary"
   ]
  },
  {
   "cell_type": "code",
   "execution_count": 166,
   "id": "bc508b06-4a8f-4802-b764-0b90cd1d9eae",
   "metadata": {},
   "outputs": [
    {
     "data": {
      "text/plain": [
       "{'January': 31, 'February': 28, 'March': 31}"
      ]
     },
     "execution_count": 166,
     "metadata": {},
     "output_type": "execute_result"
    }
   ],
   "source": [
    "days_per_month = {'January': 31, 'February': 28, 'March': 31}\n",
    "\n",
    "days_per_month"
   ]
  },
  {
   "cell_type": "code",
   "execution_count": 167,
   "id": "2de42803-78c5-4bfd-b180-fef0e4317af1",
   "metadata": {},
   "outputs": [
    {
     "name": "stdout",
     "output_type": "stream",
     "text": [
      "January has 31 days\n",
      "February has 28 days\n",
      "March has 31 days\n"
     ]
    }
   ],
   "source": [
    "for month, days in days_per_month.items():\n",
    "    print(f'{month} has {days} days')"
   ]
  },
  {
   "cell_type": "code",
   "execution_count": null,
   "id": "b839d77b-13b1-451f-a072-fc411a7f75c6",
   "metadata": {},
   "outputs": [],
   "source": []
  },
  {
   "cell_type": "code",
   "execution_count": 168,
   "id": "c3a0d702-7c33-4348-81f4-ecf4b717feff",
   "metadata": {},
   "outputs": [],
   "source": [
    "# 6.2.3 Basic Dictionary Operations, p. 212"
   ]
  },
  {
   "cell_type": "code",
   "execution_count": 169,
   "id": "c7246316-7096-480b-b358-c56d0a406b2e",
   "metadata": {},
   "outputs": [
    {
     "data": {
      "text/plain": [
       "{'I': 1, 'II': 2, 'III': 3, 'V': 5, 'X': 100}"
      ]
     },
     "execution_count": 169,
     "metadata": {},
     "output_type": "execute_result"
    }
   ],
   "source": [
    "roman_numerals = {'I': 1, 'II': 2, 'III': 3, 'V': 5, 'X': 100}\n",
    "\n",
    "roman_numerals"
   ]
  },
  {
   "cell_type": "code",
   "execution_count": 170,
   "id": "34b4ac92-c267-4560-8a66-221116a97a24",
   "metadata": {},
   "outputs": [
    {
     "data": {
      "text/plain": [
       "5"
      ]
     },
     "execution_count": 170,
     "metadata": {},
     "output_type": "execute_result"
    }
   ],
   "source": [
    "# Dasha Davis getting value associated with the key...'V'\n",
    "\n",
    "roman_numerals['V']"
   ]
  },
  {
   "cell_type": "code",
   "execution_count": 171,
   "id": "9682f2af-c341-4496-9334-39a7e7d621ac",
   "metadata": {},
   "outputs": [
    {
     "data": {
      "text/plain": [
       "{'I': 1, 'II': 2, 'III': 3, 'V': 5, 'X': 10}"
      ]
     },
     "execution_count": 171,
     "metadata": {},
     "output_type": "execute_result"
    }
   ],
   "source": [
    "#Updating the value of an existing key-value pair (in case of corrections, etc.)\n",
    "\n",
    "roman_numerals['X'] = 10\n",
    "\n",
    "roman_numerals"
   ]
  },
  {
   "cell_type": "code",
   "execution_count": 172,
   "id": "a78f2999-0e56-4cc1-9581-bb0b9ae29cf6",
   "metadata": {},
   "outputs": [
    {
     "data": {
      "text/plain": [
       "{'I': 1, 'II': 2, 'III': 3, 'V': 5, 'X': 10, 'L': 50}"
      ]
     },
     "execution_count": 172,
     "metadata": {},
     "output_type": "execute_result"
    }
   ],
   "source": [
    "#adding a new key-value Pair\n",
    "#assigning a value to a nonexistent key inserts the key-value pair in the dictionary\n",
    "\n",
    "roman_numerals['L'] = 50\n",
    "\n",
    "roman_numerals"
   ]
  },
  {
   "cell_type": "code",
   "execution_count": 173,
   "id": "fb64d99f-61fd-44d1-b2bb-08dd33ea0222",
   "metadata": {},
   "outputs": [],
   "source": [
    "# string keys are case-sensitive (p. 213)"
   ]
  },
  {
   "cell_type": "code",
   "execution_count": 174,
   "id": "f471b828-776a-424f-a168-e34624cc8f4b",
   "metadata": {},
   "outputs": [
    {
     "data": {
      "text/plain": [
       "{'I': 1, 'II': 2, 'V': 5, 'X': 10, 'L': 50}"
      ]
     },
     "execution_count": 174,
     "metadata": {},
     "output_type": "execute_result"
    }
   ],
   "source": [
    "#removing a key-value pair\n",
    "\n",
    "del roman_numerals['III']\n",
    "\n",
    "roman_numerals"
   ]
  },
  {
   "cell_type": "code",
   "execution_count": 175,
   "id": "5cc51772-9c79-48e6-9c83-5d6baa320d47",
   "metadata": {},
   "outputs": [
    {
     "data": {
      "text/plain": [
       "10"
      ]
     },
     "execution_count": 175,
     "metadata": {},
     "output_type": "execute_result"
    }
   ],
   "source": [
    "#can also remove a key-value pair with 'pop', which returns value for the removed key\n",
    "\n",
    "roman_numerals.pop('X')"
   ]
  },
  {
   "cell_type": "code",
   "execution_count": 176,
   "id": "9b13bd5b-110a-4709-86a7-cd816101b03f",
   "metadata": {},
   "outputs": [
    {
     "data": {
      "text/plain": [
       "{'I': 1, 'II': 2, 'V': 5, 'L': 50}"
      ]
     },
     "execution_count": 176,
     "metadata": {},
     "output_type": "execute_result"
    }
   ],
   "source": [
    "roman_numerals #will display without the pair that you removed with 'pop'"
   ]
  },
  {
   "cell_type": "code",
   "execution_count": 177,
   "id": "dc16ad02-6e00-40d3-a853-f02893228978",
   "metadata": {},
   "outputs": [
    {
     "ename": "KeyError",
     "evalue": "'III'",
     "output_type": "error",
     "traceback": [
      "\u001b[1;31m---------------------------------------------------------------------------\u001b[0m",
      "\u001b[1;31mKeyError\u001b[0m                                  Traceback (most recent call last)",
      "Input \u001b[1;32mIn [177]\u001b[0m, in \u001b[0;36m<cell line: 3>\u001b[1;34m()\u001b[0m\n\u001b[0;32m      1\u001b[0m \u001b[38;5;66;03m# attempting to access with a nonexistent key\u001b[39;00m\n\u001b[1;32m----> 3\u001b[0m \u001b[43mroman_numerals\u001b[49m\u001b[43m[\u001b[49m\u001b[38;5;124;43m'\u001b[39;49m\u001b[38;5;124;43mIII\u001b[39;49m\u001b[38;5;124;43m'\u001b[39;49m\u001b[43m]\u001b[49m\n",
      "\u001b[1;31mKeyError\u001b[0m: 'III'"
     ]
    }
   ],
   "source": [
    "# attempting to access with a nonexistent key - results in a KeyError\n",
    "\n",
    "roman_numerals['III']"
   ]
  },
  {
   "cell_type": "code",
   "execution_count": null,
   "id": "176733c5-7638-475c-bf0b-f573ef39e7b0",
   "metadata": {},
   "outputs": [],
   "source": [
    "# Dasha Davis can avoid this by using 'get'"
   ]
  },
  {
   "cell_type": "code",
   "execution_count": 178,
   "id": "d1b35694-046d-4626-b8d7-2318896b276b",
   "metadata": {},
   "outputs": [],
   "source": [
    "# testing whether a dictionary contains a specified key by using operators 'in' and 'not in'"
   ]
  },
  {
   "cell_type": "code",
   "execution_count": 179,
   "id": "0c3f455b-63e3-484f-9426-9fd27df974e0",
   "metadata": {},
   "outputs": [
    {
     "data": {
      "text/plain": [
       "True"
      ]
     },
     "execution_count": 179,
     "metadata": {},
     "output_type": "execute_result"
    }
   ],
   "source": [
    "'V' in roman_numerals"
   ]
  },
  {
   "cell_type": "code",
   "execution_count": 180,
   "id": "54043a31-82e2-488b-bdb8-fbabd11b0aa6",
   "metadata": {},
   "outputs": [
    {
     "data": {
      "text/plain": [
       "False"
      ]
     },
     "execution_count": 180,
     "metadata": {},
     "output_type": "execute_result"
    }
   ],
   "source": [
    "'III' in roman_numerals"
   ]
  },
  {
   "cell_type": "code",
   "execution_count": 181,
   "id": "9b42705a-ded8-48a4-9f7d-4341b319194d",
   "metadata": {},
   "outputs": [
    {
     "data": {
      "text/plain": [
       "True"
      ]
     },
     "execution_count": 181,
     "metadata": {},
     "output_type": "execute_result"
    }
   ],
   "source": [
    "'III' not in roman_numerals"
   ]
  },
  {
   "cell_type": "code",
   "execution_count": null,
   "id": "0c9d0e44-f597-4ca4-98ad-78860c45361d",
   "metadata": {},
   "outputs": [],
   "source": []
  },
  {
   "cell_type": "markdown",
   "id": "cd1659a3-1483-438f-ab95-46fb2c37acfc",
   "metadata": {},
   "source": [
    "## Dasha Davis 6.2.4"
   ]
  },
  {
   "cell_type": "code",
   "execution_count": 182,
   "id": "d295002b-b340-4ce3-bffb-85e55856444c",
   "metadata": {},
   "outputs": [
    {
     "name": "stdout",
     "output_type": "stream",
     "text": [
      "January February March "
     ]
    }
   ],
   "source": [
    "months = {'January': 1, 'February': 2, 'March': 3}\n",
    "\n",
    "for month_name in months.keys():\n",
    "    print(month_name, end=' ')\n",
    "    "
   ]
  },
  {
   "cell_type": "code",
   "execution_count": 183,
   "id": "1a53c992-f5bd-4d4d-872d-daa38888e3b3",
   "metadata": {},
   "outputs": [
    {
     "name": "stdout",
     "output_type": "stream",
     "text": [
      "1 2 3 "
     ]
    }
   ],
   "source": [
    "for month_number in months.values():\n",
    "    print(month_number, end=' ')"
   ]
  },
  {
   "cell_type": "code",
   "execution_count": null,
   "id": "cfcbd8f8-3d81-405a-b3f7-2857d86f9ce0",
   "metadata": {},
   "outputs": [],
   "source": []
  },
  {
   "cell_type": "code",
   "execution_count": 184,
   "id": "cd32727a-0bc6-44d2-bab0-d72d342fa2ac",
   "metadata": {},
   "outputs": [
    {
     "name": "stdout",
     "output_type": "stream",
     "text": [
      "January February March "
     ]
    }
   ],
   "source": [
    "#Dictionary Views do NOT maintain their own copies of a dictionary's data\n",
    "\n",
    "months_view = months.keys()\n",
    "\n",
    "for key in months_view:\n",
    "    print(key, end=' ')\n",
    "\n"
   ]
  },
  {
   "cell_type": "code",
   "execution_count": 185,
   "id": "010243ad-2376-4005-b7f7-cb007d415234",
   "metadata": {},
   "outputs": [
    {
     "data": {
      "text/plain": [
       "{'January': 1, 'February': 2, 'March': 3, 'December': 12}"
      ]
     },
     "execution_count": 185,
     "metadata": {},
     "output_type": "execute_result"
    }
   ],
   "source": [
    "months['December'] = 12 #adding a new key-pair value\n",
    "\n",
    "months"
   ]
  },
  {
   "cell_type": "code",
   "execution_count": 186,
   "id": "2548dd7f-0f3f-4971-8314-7ef16c95c631",
   "metadata": {},
   "outputs": [
    {
     "name": "stdout",
     "output_type": "stream",
     "text": [
      "January February March December "
     ]
    }
   ],
   "source": [
    "for key in months_view:\n",
    "    print(key, end=' ')"
   ]
  },
  {
   "cell_type": "code",
   "execution_count": null,
   "id": "e1825503-ff33-4ad5-817c-57734ab8e70a",
   "metadata": {},
   "outputs": [],
   "source": [
    "# Do not modify a dictionary while iterating through a view"
   ]
  },
  {
   "cell_type": "code",
   "execution_count": null,
   "id": "ebaf426f-0562-416b-9ff2-f71f8db0828b",
   "metadata": {},
   "outputs": [],
   "source": []
  },
  {
   "cell_type": "markdown",
   "id": "4616381b-75b0-438c-a15c-73907885b288",
   "metadata": {},
   "source": [
    "## 6.2.7 Example: Word Counts, pg. 218"
   ]
  },
  {
   "cell_type": "code",
   "execution_count": null,
   "id": "73ddea2c-384e-4ed4-9a98-27a16a3a85e2",
   "metadata": {},
   "outputs": [],
   "source": [
    "# fig06_02.py\n",
    "\"\"\"Tokenizing a string and counting unique words.\"\"\""
   ]
  },
  {
   "cell_type": "code",
   "execution_count": 191,
   "id": "d9c557fa-8369-4230-a157-5cb8d0cbf933",
   "metadata": {},
   "outputs": [
    {
     "name": "stdout",
     "output_type": "stream",
     "text": [
      "WORD        COUNT\n",
      "different   1\n",
      "is          2\n",
      "more        1\n",
      "sample      2\n",
      "several     1\n",
      "some        1\n",
      "text        2\n",
      "this        2\n",
      "with        2\n",
      "words       2\n",
      "\n",
      "Number of unique words: 10\n"
     ]
    }
   ],
   "source": [
    "text = ('this is sample text with several words '\n",
    "        'this is more sample text with some different words')\n",
    "\n",
    "word_counts = {}\n",
    "\n",
    "#count occurrences of each unique word\n",
    "for word in text.split():\n",
    "    if word in word_counts:\n",
    "        word_counts[word] +=1  #update existing key-value pair\n",
    "    else: \n",
    "        word_counts[word] = 1 #insert new key-value pair\n",
    "        \n",
    "print(f'{\"WORD\":<12}COUNT')\n",
    "\n",
    "for word, count in sorted(word_counts.items()):\n",
    "    print(f'{word:<12}{count}')\n",
    "\n",
    "print('\\nNumber of unique words:', len(word_counts))"
   ]
  },
  {
   "cell_type": "code",
   "execution_count": null,
   "id": "962f0a97-8c02-4ea1-9108-5ccab9a9c9c1",
   "metadata": {},
   "outputs": [],
   "source": []
  },
  {
   "cell_type": "markdown",
   "id": "e5569259-f069-4ad9-b082-c11006ecd475",
   "metadata": {},
   "source": [
    "## Dasha Davis - My example, Word Counts, ex. 6.2.7"
   ]
  },
  {
   "cell_type": "code",
   "execution_count": 192,
   "id": "738a16b8-f211-4987-a5b9-55a6b157297f",
   "metadata": {},
   "outputs": [
    {
     "name": "stdout",
     "output_type": "stream",
     "text": [
      "WORD             COUNT\n",
      "Peter            4\n",
      "Piper            4\n",
      "a                3\n",
      "did              1\n",
      "how              1\n",
      "if               1\n",
      "many             1\n",
      "of               3\n",
      "peck             3\n",
      "pecks            1\n",
      "peppers          3\n",
      "pick             1\n",
      "picked           3\n",
      "pickeled         1\n",
      "pickled          2\n",
      "\n",
      "Number of unique words: 15\n"
     ]
    }
   ],
   "source": [
    "text = ('Peter Piper picked a peck of pickled peppers '\n",
    "        'a peck of pickled peppers Peter Piper picked '\n",
    "        'if Peter Piper picked a peck of pickeled peppers '\n",
    "        'how many pecks did Peter Piper pick')\n",
    "\n",
    "word_counts = {}\n",
    "\n",
    "#count occurrences of each unique word\n",
    "for word in text.split():\n",
    "    if word in word_counts:\n",
    "        word_counts[word] +=1  #update existing key-value pair\n",
    "    else: \n",
    "        word_counts[word] = 1 #insert new key-value pair\n",
    "        \n",
    "print(f'{\"WORD\":<17}COUNT')\n",
    "\n",
    "for word, count in sorted(word_counts.items()):\n",
    "    print(f'{word:<17}{count}')\n",
    "\n",
    "print('\\nNumber of unique words:', len(word_counts))"
   ]
  },
  {
   "cell_type": "code",
   "execution_count": null,
   "id": "60c19b69-d444-4b89-83e3-ffef909b86d1",
   "metadata": {},
   "outputs": [],
   "source": []
  },
  {
   "cell_type": "markdown",
   "id": "3009b794-4c81-400b-9eab-22f446c39338",
   "metadata": {},
   "source": [
    "## 6.2 Self Check #2"
   ]
  },
  {
   "cell_type": "code",
   "execution_count": 194,
   "id": "0da2b491-1728-4cbc-96c1-a0adb375c04a",
   "metadata": {},
   "outputs": [],
   "source": [
    "import random\n"
   ]
  },
  {
   "cell_type": "code",
   "execution_count": 196,
   "id": "b3cdd9c6-0913-4016-8651-1b105819ee41",
   "metadata": {},
   "outputs": [
    {
     "name": "stdout",
     "output_type": "stream",
     "text": [
      "1   9\n",
      "2   8\n",
      "3   10\n",
      "4   8\n",
      "5   15\n"
     ]
    }
   ],
   "source": [
    "numbers = [random.randrange(1, 6) for i in range(50)]\n",
    "\n",
    "from collections import Counter\n",
    "\n",
    "counter = Counter(numbers)\n",
    "\n",
    "for value, count in sorted(counter.items()):\n",
    "    print(f'{value:<4}{count}')"
   ]
  },
  {
   "cell_type": "code",
   "execution_count": null,
   "id": "c7b2fece-42c2-4ca5-87ca-73f6907231eb",
   "metadata": {},
   "outputs": [],
   "source": []
  },
  {
   "cell_type": "code",
   "execution_count": null,
   "id": "69c95c1c-03b5-402e-b94e-319dbca7fa05",
   "metadata": {},
   "outputs": [],
   "source": [
    "# 6.2.8 Dictionary Method 'Update'"
   ]
  },
  {
   "cell_type": "code",
   "execution_count": 198,
   "id": "e67d9595-74fc-4914-8fee-c498be26b657",
   "metadata": {},
   "outputs": [
    {
     "data": {
      "text/plain": [
       "{'South Africa': 'ZA'}"
      ]
     },
     "execution_count": 198,
     "metadata": {},
     "output_type": "execute_result"
    }
   ],
   "source": [
    "country_codes = {}\n",
    "\n",
    "country_codes.update({'South Africa': 'ZA'})\n",
    "                     \n",
    "country_codes"
   ]
  },
  {
   "cell_type": "code",
   "execution_count": null,
   "id": "67da8f9e-5b6f-465d-ac22-e7968ace5002",
   "metadata": {},
   "outputs": [],
   "source": [
    "#method update can convert keyword arguments into key-value pairs to insert"
   ]
  },
  {
   "cell_type": "code",
   "execution_count": 199,
   "id": "bbb73777-deea-4827-a0c7-d4e32edaa6f0",
   "metadata": {},
   "outputs": [
    {
     "data": {
      "text/plain": [
       "{'South Africa': 'ZA', 'Australia': 'ar'}"
      ]
     },
     "execution_count": 199,
     "metadata": {},
     "output_type": "execute_result"
    }
   ],
   "source": [
    "country_codes.update(Australia='ar')\n",
    "\n",
    "country_codes"
   ]
  },
  {
   "cell_type": "code",
   "execution_count": null,
   "id": "0cebeb0b-addc-4f05-95f6-9a92bd94dd1c",
   "metadata": {},
   "outputs": [],
   "source": [
    "#to correct something by using another keyword argument to update"
   ]
  },
  {
   "cell_type": "code",
   "execution_count": 201,
   "id": "aa408008-b2ca-4d24-a714-a32ee5795e38",
   "metadata": {},
   "outputs": [
    {
     "data": {
      "text/plain": [
       "{'South Africa': 'ZA', 'Australia': 'au'}"
      ]
     },
     "execution_count": 201,
     "metadata": {},
     "output_type": "execute_result"
    }
   ],
   "source": [
    "country_codes.update(Australia='au')\n",
    "\n",
    "country_codes"
   ]
  },
  {
   "cell_type": "markdown",
   "id": "25c060df-cb9f-41e4-8f1f-a778ec41838c",
   "metadata": {},
   "source": [
    "## Dasha Davis 6.2.9 Dictionary Comprehensions "
   ]
  },
  {
   "cell_type": "code",
   "execution_count": 204,
   "id": "401485e0-33df-4ffd-b96b-68781771521b",
   "metadata": {},
   "outputs": [
    {
     "data": {
      "text/plain": [
       "{1: 'January', 2: 'February', 3: 'March'}"
      ]
     },
     "execution_count": 204,
     "metadata": {},
     "output_type": "execute_result"
    }
   ],
   "source": [
    "months = {'January': 1, 'February': 2, 'March': 3}\n",
    "          \n",
    "months2 = {number: name for name, number in months.items()}\n",
    "          \n",
    "months2 # shows reversing key-value pairs"
   ]
  },
  {
   "cell_type": "code",
   "execution_count": null,
   "id": "d0f6c399-6124-420e-aaef-efe73c277c5e",
   "metadata": {},
   "outputs": [],
   "source": [
    "#dictionary comprehension can map/convert a dictionary's values to new values\n",
    "#converts a dictionary of names and lists of grades into a dictionary of names and GPAs"
   ]
  },
  {
   "cell_type": "code",
   "execution_count": 206,
   "id": "86968bb5-6abe-4e14-9021-24fb76b1f259",
   "metadata": {},
   "outputs": [
    {
     "data": {
      "text/plain": [
       "{'Sue': 93.0, 'Bob': 90.0}"
      ]
     },
     "execution_count": 206,
     "metadata": {},
     "output_type": "execute_result"
    }
   ],
   "source": [
    "grades = {'Sue': [98, 87, 94], 'Bob': [84, 95, 91]}\n",
    "\n",
    "grades2 = {k: sum(v)/len(v) for k, v in grades.items()}\n",
    "\n",
    "grades2"
   ]
  },
  {
   "cell_type": "markdown",
   "id": "bba858f6-6428-4f7a-99b8-79f1b75c45f8",
   "metadata": {},
   "source": [
    "## Dasha Davis 6.2 Self Check"
   ]
  },
  {
   "cell_type": "code",
   "execution_count": 207,
   "id": "c9d3aa15-7381-4d5e-893a-3f76d581af9f",
   "metadata": {},
   "outputs": [
    {
     "data": {
      "text/plain": [
       "{1: 1, 2: 8, 3: 27, 4: 64, 5: 125}"
      ]
     },
     "execution_count": 207,
     "metadata": {},
     "output_type": "execute_result"
    }
   ],
   "source": [
    "{number: number ** 3 for number in range(1, 6)}"
   ]
  },
  {
   "cell_type": "code",
   "execution_count": null,
   "id": "c7313e21-c874-4723-909d-cc7f9d9dc701",
   "metadata": {},
   "outputs": [],
   "source": []
  },
  {
   "cell_type": "markdown",
   "id": "135da028-abda-48cc-83bf-d44e20dbe55f",
   "metadata": {},
   "source": [
    "## 6.3 Sets, pg. 221"
   ]
  },
  {
   "cell_type": "code",
   "execution_count": 208,
   "id": "49b2e5ad-81df-47fb-9fb6-2cff9a947e06",
   "metadata": {},
   "outputs": [
    {
     "data": {
      "text/plain": [
       "{'blue', 'green', 'orange', 'red', 'yellow'}"
      ]
     },
     "execution_count": 208,
     "metadata": {},
     "output_type": "execute_result"
    }
   ],
   "source": [
    "colors = {'red', 'orange', 'yellow', 'green', 'red', 'blue'}\n",
    "\n",
    "colors"
   ]
  },
  {
   "cell_type": "code",
   "execution_count": 209,
   "id": "b64a0bfa-ba22-4f70-858f-389abacbbc10",
   "metadata": {},
   "outputs": [
    {
     "data": {
      "text/plain": [
       "5"
      ]
     },
     "execution_count": 209,
     "metadata": {},
     "output_type": "execute_result"
    }
   ],
   "source": [
    "#finding set's Length\n",
    "\n",
    "len(colors)"
   ]
  },
  {
   "cell_type": "code",
   "execution_count": 210,
   "id": "0cff96aa-b404-4ba1-9a93-664df4be001b",
   "metadata": {},
   "outputs": [],
   "source": [
    "#checking if a value is in a set with the 'in' and 'not in' operators"
   ]
  },
  {
   "cell_type": "code",
   "execution_count": 211,
   "id": "59bdda33-1af0-423c-a862-a303574f245c",
   "metadata": {},
   "outputs": [
    {
     "data": {
      "text/plain": [
       "True"
      ]
     },
     "execution_count": 211,
     "metadata": {},
     "output_type": "execute_result"
    }
   ],
   "source": [
    "'red' in colors"
   ]
  },
  {
   "cell_type": "code",
   "execution_count": 212,
   "id": "8c383460-717a-4a9b-809a-3aa5259bddec",
   "metadata": {},
   "outputs": [
    {
     "data": {
      "text/plain": [
       "False"
      ]
     },
     "execution_count": 212,
     "metadata": {},
     "output_type": "execute_result"
    }
   ],
   "source": [
    "'purple' in colors"
   ]
  },
  {
   "cell_type": "code",
   "execution_count": 213,
   "id": "7b1e0cd6-b39a-4b16-b3f1-9bd5541506bf",
   "metadata": {},
   "outputs": [
    {
     "data": {
      "text/plain": [
       "True"
      ]
     },
     "execution_count": 213,
     "metadata": {},
     "output_type": "execute_result"
    }
   ],
   "source": [
    "'purple' not in colors"
   ]
  },
  {
   "cell_type": "code",
   "execution_count": 215,
   "id": "47942e77-5066-465a-8b0e-d600dd49d959",
   "metadata": {},
   "outputs": [
    {
     "name": "stdout",
     "output_type": "stream",
     "text": [
      "YELLOW RED GREEN ORANGE BLUE "
     ]
    }
   ],
   "source": [
    "#iterating through a set (sets are iterable, so each element can process through a 'for' loop\n",
    "#sets are undordered\n",
    "\n",
    "for color in colors:\n",
    "    print(color.upper(), end=' ')"
   ]
  },
  {
   "cell_type": "code",
   "execution_count": 216,
   "id": "c4aae24c-7b5a-4d15-9d0c-b3632504883a",
   "metadata": {},
   "outputs": [
    {
     "data": {
      "text/plain": [
       "[0, 1, 2, 3, 4, 5, 6, 7, 8, 9, 0, 1, 2, 3, 4]"
      ]
     },
     "execution_count": 216,
     "metadata": {},
     "output_type": "execute_result"
    }
   ],
   "source": [
    "#creating a set with the built-in set function\n",
    "\n",
    "numbers = list(range(10)) + list(range(5))\n",
    "\n",
    "numbers"
   ]
  },
  {
   "cell_type": "code",
   "execution_count": 217,
   "id": "f89f0ccd-d98c-45b7-bead-433381f03353",
   "metadata": {},
   "outputs": [
    {
     "data": {
      "text/plain": [
       "{0, 1, 2, 3, 4, 5, 6, 7, 8, 9}"
      ]
     },
     "execution_count": 217,
     "metadata": {},
     "output_type": "execute_result"
    }
   ],
   "source": [
    "set(numbers)"
   ]
  },
  {
   "cell_type": "code",
   "execution_count": 218,
   "id": "5689ed11-9b2a-4bf8-b8b7-8ec6f61055be",
   "metadata": {},
   "outputs": [
    {
     "data": {
      "text/plain": [
       "set()"
      ]
     },
     "execution_count": 218,
     "metadata": {},
     "output_type": "execute_result"
    }
   ],
   "source": [
    "#empty set\n",
    "\n",
    "set()"
   ]
  },
  {
   "cell_type": "markdown",
   "id": "3bdf67a5-c41e-40fa-af2c-2fefb36fc183",
   "metadata": {},
   "source": [
    "# Dasha Davis 6.3 Self Check pg. 223"
   ]
  },
  {
   "cell_type": "code",
   "execution_count": 219,
   "id": "ade1a616-eedb-40b0-b772-e219b4da04a6",
   "metadata": {},
   "outputs": [
    {
     "name": "stdout",
     "output_type": "stream",
     "text": [
      "be is not or question that the to "
     ]
    }
   ],
   "source": [
    "text = 'to be or not to be that is the question'\n",
    "\n",
    "unique_words = set(text.split())\n",
    "\n",
    "for word in sorted(unique_words):\n",
    "    print(word, end=' ')"
   ]
  },
  {
   "cell_type": "code",
   "execution_count": null,
   "id": "555135bb-cc14-4aab-8381-5bf27881badc",
   "metadata": {},
   "outputs": [],
   "source": []
  },
  {
   "cell_type": "code",
   "execution_count": 220,
   "id": "95743a24-d4e0-4930-a5a2-659eba3a6648",
   "metadata": {},
   "outputs": [
    {
     "data": {
      "text/plain": [
       "True"
      ]
     },
     "execution_count": 220,
     "metadata": {},
     "output_type": "execute_result"
    }
   ],
   "source": [
    "# 6.3.1 Comparing sets\n",
    "# == returns True and != returns False\n",
    "\n",
    "{1, 3, 5} == {3, 5, 1}"
   ]
  },
  {
   "cell_type": "code",
   "execution_count": 221,
   "id": "717a7c8f-6d34-48a6-8ac8-a1054e7e3c49",
   "metadata": {},
   "outputs": [
    {
     "data": {
      "text/plain": [
       "False"
      ]
     },
     "execution_count": 221,
     "metadata": {},
     "output_type": "execute_result"
    }
   ],
   "source": [
    "{1, 3, 5} != {3, 5, 1}"
   ]
  },
  {
   "cell_type": "code",
   "execution_count": 222,
   "id": "61040dd0-7b6d-41e0-b696-09e20dcdd283",
   "metadata": {},
   "outputs": [
    {
     "data": {
      "text/plain": [
       "False"
      ]
     },
     "execution_count": 222,
     "metadata": {},
     "output_type": "execute_result"
    }
   ],
   "source": [
    "# < shows if the set to its left is a proper subset of the one on the right -- all elements in the left are in the right and sets are not equal\n",
    "\n",
    "{1, 3, 5} < {3, 5, 1}  #these are equal, so False"
   ]
  },
  {
   "cell_type": "code",
   "execution_count": 223,
   "id": "86532285-f98c-40c2-b47e-eb8db2203191",
   "metadata": {},
   "outputs": [
    {
     "data": {
      "text/plain": [
       "True"
      ]
     },
     "execution_count": 223,
     "metadata": {},
     "output_type": "execute_result"
    }
   ],
   "source": [
    "{1, 3, 5} < {7, 3, 5, 1}"
   ]
  },
  {
   "cell_type": "code",
   "execution_count": 224,
   "id": "8356a87d-a44a-4529-968d-c4d1645ba1af",
   "metadata": {},
   "outputs": [],
   "source": [
    "# <= operator tests if the left is an improper subset of the right -- all elements on left ar in the right, and the sets might be equal"
   ]
  },
  {
   "cell_type": "code",
   "execution_count": 225,
   "id": "b742cf0c-dd04-49df-940e-00318eba30ca",
   "metadata": {},
   "outputs": [
    {
     "data": {
      "text/plain": [
       "True"
      ]
     },
     "execution_count": 225,
     "metadata": {},
     "output_type": "execute_result"
    }
   ],
   "source": [
    "{1, 3, 5} <= {3, 5, 1}"
   ]
  },
  {
   "cell_type": "code",
   "execution_count": 226,
   "id": "744c826f-0ed5-471e-9c64-347330bf5d71",
   "metadata": {},
   "outputs": [
    {
     "data": {
      "text/plain": [
       "True"
      ]
     },
     "execution_count": 226,
     "metadata": {},
     "output_type": "execute_result"
    }
   ],
   "source": [
    "{1, 3} <= {3, 5, 1}"
   ]
  },
  {
   "cell_type": "code",
   "execution_count": null,
   "id": "95e128bd-f93f-434d-9a25-273229eef233",
   "metadata": {},
   "outputs": [],
   "source": [
    "#can also use issubset\n"
   ]
  },
  {
   "cell_type": "code",
   "execution_count": 227,
   "id": "9a3e5b71-db56-4956-b969-a207198d6954",
   "metadata": {},
   "outputs": [
    {
     "data": {
      "text/plain": [
       "True"
      ]
     },
     "execution_count": 227,
     "metadata": {},
     "output_type": "execute_result"
    }
   ],
   "source": [
    "{1, 3, 5}.issubset({3, 5, 1})"
   ]
  },
  {
   "cell_type": "code",
   "execution_count": null,
   "id": "54456f50-6798-4eea-8f5e-3dea6edc71ec",
   "metadata": {},
   "outputs": [],
   "source": [
    "# > operator test if left is a proper subset of right, all elements in right are in left and left operand has more elements"
   ]
  },
  {
   "cell_type": "code",
   "execution_count": 228,
   "id": "72e9d34f-9849-4740-8422-569ee8a90f9a",
   "metadata": {},
   "outputs": [
    {
     "data": {
      "text/plain": [
       "False"
      ]
     },
     "execution_count": 228,
     "metadata": {},
     "output_type": "execute_result"
    }
   ],
   "source": [
    "{1, 3, 5} > {3, 5, 1}"
   ]
  },
  {
   "cell_type": "code",
   "execution_count": 229,
   "id": "863aaf19-f387-4016-abfa-616041e2e34b",
   "metadata": {},
   "outputs": [
    {
     "data": {
      "text/plain": [
       "True"
      ]
     },
     "execution_count": 229,
     "metadata": {},
     "output_type": "execute_result"
    }
   ],
   "source": [
    "{1, 3, 5, 7} > {3, 5, 1}"
   ]
  },
  {
   "cell_type": "code",
   "execution_count": null,
   "id": "9266f069-d17d-4fee-ad0e-f7c64da8dedf",
   "metadata": {},
   "outputs": [],
   "source": [
    "# >= operator, the elements in the right are in the left, and the sets might be equal\n"
   ]
  },
  {
   "cell_type": "code",
   "execution_count": 230,
   "id": "fb1a5a2c-f0bd-4a2e-a7c4-3891e0ad0359",
   "metadata": {},
   "outputs": [
    {
     "data": {
      "text/plain": [
       "True"
      ]
     },
     "execution_count": 230,
     "metadata": {},
     "output_type": "execute_result"
    }
   ],
   "source": [
    "{1, 3, 5} >= {3, 5, 1}"
   ]
  },
  {
   "cell_type": "code",
   "execution_count": 231,
   "id": "f2672b93-aa7a-4d87-8e05-a135e8c135a2",
   "metadata": {},
   "outputs": [
    {
     "data": {
      "text/plain": [
       "True"
      ]
     },
     "execution_count": 231,
     "metadata": {},
     "output_type": "execute_result"
    }
   ],
   "source": [
    "{1, 3, 5} >= {3, 1}"
   ]
  },
  {
   "cell_type": "code",
   "execution_count": 232,
   "id": "3e8dadc5-358e-476e-87a6-52d7341e8071",
   "metadata": {},
   "outputs": [
    {
     "data": {
      "text/plain": [
       "False"
      ]
     },
     "execution_count": 232,
     "metadata": {},
     "output_type": "execute_result"
    }
   ],
   "source": [
    "{1, 3} >= {3, 1, 7}"
   ]
  },
  {
   "cell_type": "code",
   "execution_count": 233,
   "id": "67eab5f0-6c7b-4934-b992-6fc9c25594f7",
   "metadata": {},
   "outputs": [
    {
     "data": {
      "text/plain": [
       "True"
      ]
     },
     "execution_count": 233,
     "metadata": {},
     "output_type": "execute_result"
    }
   ],
   "source": [
    "#issuperset\n",
    "\n",
    "{1, 3, 5}.issuperset({3, 5, 1})"
   ]
  },
  {
   "cell_type": "code",
   "execution_count": 234,
   "id": "c44b98cf-157d-4a47-a112-4d4aa9755ea4",
   "metadata": {},
   "outputs": [
    {
     "data": {
      "text/plain": [
       "False"
      ]
     },
     "execution_count": 234,
     "metadata": {},
     "output_type": "execute_result"
    }
   ],
   "source": [
    "#issuperset\n",
    "\n",
    "{1, 3, 5}.issuperset({3, 2})"
   ]
  },
  {
   "cell_type": "markdown",
   "id": "c72a953a-3ab0-423d-a86b-bf8116be73d0",
   "metadata": {},
   "source": [
    "# Dasha Davis 6.3.1 Self Check #3"
   ]
  },
  {
   "cell_type": "code",
   "execution_count": 235,
   "id": "c63d0bb2-e3ea-4e3e-9af1-bcf39acebe03",
   "metadata": {},
   "outputs": [
    {
     "data": {
      "text/plain": [
       "True"
      ]
     },
     "execution_count": 235,
     "metadata": {},
     "output_type": "execute_result"
    }
   ],
   "source": [
    "set('abc def ghi jkl mno').issuperset('hi mom')"
   ]
  },
  {
   "cell_type": "markdown",
   "id": "c384b0b3-c58a-42f2-bdd9-4666e07f3f9a",
   "metadata": {},
   "source": []
  },
  {
   "cell_type": "markdown",
   "id": "cdb68e84-a711-4d07-9cc9-f1e06569c478",
   "metadata": {},
   "source": [
    "## 6.3.2 Mathematical Set Operations"
   ]
  },
  {
   "cell_type": "code",
   "execution_count": 238,
   "id": "4d16203f-6c34-400b-89c1-d1f486ebbe60",
   "metadata": {},
   "outputs": [
    {
     "data": {
      "text/plain": [
       "{1, 2, 3, 4, 5}"
      ]
     },
     "execution_count": 238,
     "metadata": {},
     "output_type": "execute_result"
    }
   ],
   "source": [
    "#union of 2 sets consists of all the unique elements from both sets\n",
    "#calculated with the | operator or with '.union' method\n",
    "\n",
    "{1, 3, 5} | {2, 3, 4}"
   ]
  },
  {
   "cell_type": "code",
   "execution_count": 237,
   "id": "2554c0cc-d699-4614-adf0-6e4a0e160c58",
   "metadata": {},
   "outputs": [
    {
     "data": {
      "text/plain": [
       "{1, 3, 5, 20, 40}"
      ]
     },
     "execution_count": 237,
     "metadata": {},
     "output_type": "execute_result"
    }
   ],
   "source": [
    "#.union method\n",
    "{1, 3, 5}.union([20, 20, 3, 40, 40])"
   ]
  },
  {
   "cell_type": "code",
   "execution_count": null,
   "id": "47803eb5-37eb-4628-8d65-14aaa0dc259a",
   "metadata": {},
   "outputs": [],
   "source": [
    "#intersections (sets) -- what 2 sets have in common\n",
    "# can use the & operator or the .intersection\n",
    "\n"
   ]
  },
  {
   "cell_type": "code",
   "execution_count": 239,
   "id": "828e2b17-3b16-467e-9c8f-c6ec45e0cdb2",
   "metadata": {},
   "outputs": [
    {
     "data": {
      "text/plain": [
       "{3}"
      ]
     },
     "execution_count": 239,
     "metadata": {},
     "output_type": "execute_result"
    }
   ],
   "source": [
    "{1, 3, 5} & {2, 3, 4}"
   ]
  },
  {
   "cell_type": "code",
   "execution_count": 240,
   "id": "2b1e6126-f8d1-48fd-80e2-b92ac8fb4336",
   "metadata": {},
   "outputs": [
    {
     "data": {
      "text/plain": [
       "{1, 3}"
      ]
     },
     "execution_count": 240,
     "metadata": {},
     "output_type": "execute_result"
    }
   ],
   "source": [
    "{1, 3, 5}.intersection([1, 2, 2, 3, 3, 4, 4])"
   ]
  },
  {
   "cell_type": "code",
   "execution_count": null,
   "id": "93f57178-9724-4815-ba5a-5791ed1378a4",
   "metadata": {},
   "outputs": [],
   "source": [
    "#difference --elements in the left that are not in the right\n",
    "# - operator or .difference"
   ]
  },
  {
   "cell_type": "code",
   "execution_count": 241,
   "id": "ed1717d1-bb0c-441b-a0d2-862410aefacd",
   "metadata": {},
   "outputs": [
    {
     "data": {
      "text/plain": [
       "{1, 5}"
      ]
     },
     "execution_count": 241,
     "metadata": {},
     "output_type": "execute_result"
    }
   ],
   "source": [
    "{1, 3, 5} - {2, 3, 4}"
   ]
  },
  {
   "cell_type": "code",
   "execution_count": 242,
   "id": "77b52b47-35b6-4843-b363-12aa12f3f57c",
   "metadata": {},
   "outputs": [
    {
     "data": {
      "text/plain": [
       "{1, 5, 7}"
      ]
     },
     "execution_count": 242,
     "metadata": {},
     "output_type": "execute_result"
    }
   ],
   "source": [
    "{1, 3, 5, 7}.difference([2, 2, 3, 3, 4, 4])"
   ]
  },
  {
   "cell_type": "code",
   "execution_count": null,
   "id": "85a86d14-844f-4ada-8c2c-fccc13814a16",
   "metadata": {},
   "outputs": [],
   "source": [
    "# symmetric difference - set that has elements of both sets that are not in commone with each other.\n",
    "# can use the ^ operator or with 'symmetric-difference' method"
   ]
  },
  {
   "cell_type": "code",
   "execution_count": 243,
   "id": "2a934454-d5a5-48e0-838e-b11a5145721c",
   "metadata": {},
   "outputs": [
    {
     "data": {
      "text/plain": [
       "{1, 2, 4, 5}"
      ]
     },
     "execution_count": 243,
     "metadata": {},
     "output_type": "execute_result"
    }
   ],
   "source": [
    "{1, 3, 5} ^ {2, 3, 4}"
   ]
  },
  {
   "cell_type": "code",
   "execution_count": 244,
   "id": "25eeaf08-fd2c-489d-bcae-d179d193277c",
   "metadata": {},
   "outputs": [
    {
     "data": {
      "text/plain": [
       "{1, 2, 4, 5, 7}"
      ]
     },
     "execution_count": 244,
     "metadata": {},
     "output_type": "execute_result"
    }
   ],
   "source": [
    "{1, 3, 5, 7}.symmetric_difference([2, 2, 3, 3, 4, 4])"
   ]
  },
  {
   "cell_type": "code",
   "execution_count": 246,
   "id": "0efa349f-2ffb-44f9-afa6-7af7d6730dd2",
   "metadata": {},
   "outputs": [
    {
     "data": {
      "text/plain": [
       "True"
      ]
     },
     "execution_count": 246,
     "metadata": {},
     "output_type": "execute_result"
    }
   ],
   "source": [
    "#disjoint - 2 sets are disjoint if they do not have any common elements. Use the 'isdisjoint' method\n",
    "\n",
    "{1, 3, 5}.isdisjoint({2, 4, 6})"
   ]
  },
  {
   "cell_type": "code",
   "execution_count": 247,
   "id": "6cafb78c-0713-49fb-8ddb-c9287cd4b3e8",
   "metadata": {},
   "outputs": [
    {
     "data": {
      "text/plain": [
       "False"
      ]
     },
     "execution_count": 247,
     "metadata": {},
     "output_type": "execute_result"
    }
   ],
   "source": [
    "{1, 3, 5}.isdisjoint({4, 6, 1})"
   ]
  },
  {
   "cell_type": "code",
   "execution_count": null,
   "id": "b0f6c34e-1fba-47b9-9eb2-139bd9e23fb6",
   "metadata": {},
   "outputs": [],
   "source": []
  },
  {
   "cell_type": "markdown",
   "id": "c04a3039-2155-4a0c-8532-4011aeb9c9c0",
   "metadata": {},
   "source": [
    "## Dasha Davis 6.3.2 Self Check #2"
   ]
  },
  {
   "cell_type": "code",
   "execution_count": 248,
   "id": "b457e12a-ae67-4bce-932d-4273b54cb113",
   "metadata": {},
   "outputs": [
    {
     "data": {
      "text/plain": [
       "{30}"
      ]
     },
     "execution_count": 248,
     "metadata": {},
     "output_type": "execute_result"
    }
   ],
   "source": [
    "{10, 20, 30} - {5, 10, 15, 20}"
   ]
  },
  {
   "cell_type": "code",
   "execution_count": 249,
   "id": "65051258-1017-4cbe-ab1e-0e775dd0005f",
   "metadata": {},
   "outputs": [
    {
     "data": {
      "text/plain": [
       "{5, 15, 30}"
      ]
     },
     "execution_count": 249,
     "metadata": {},
     "output_type": "execute_result"
    }
   ],
   "source": [
    "{10, 20, 30} ^ {5, 10, 15, 20}"
   ]
  },
  {
   "cell_type": "code",
   "execution_count": 250,
   "id": "8d6e364d-04a7-430d-b383-3b4a0e84a1c1",
   "metadata": {},
   "outputs": [
    {
     "data": {
      "text/plain": [
       "{5, 10, 15, 20, 30}"
      ]
     },
     "execution_count": 250,
     "metadata": {},
     "output_type": "execute_result"
    }
   ],
   "source": [
    "{10, 20, 30} | {5, 10, 15, 20}"
   ]
  },
  {
   "cell_type": "code",
   "execution_count": 251,
   "id": "cf5ceee3-ffb7-4dc3-a63f-1170bd9d1026",
   "metadata": {},
   "outputs": [
    {
     "data": {
      "text/plain": [
       "{10, 20}"
      ]
     },
     "execution_count": 251,
     "metadata": {},
     "output_type": "execute_result"
    }
   ],
   "source": [
    "{10, 20, 30} & {5, 10, 15, 20}"
   ]
  },
  {
   "cell_type": "code",
   "execution_count": null,
   "id": "5cbe4f64-ea8f-4ddc-a322-cd79c207b65f",
   "metadata": {},
   "outputs": [],
   "source": []
  },
  {
   "cell_type": "code",
   "execution_count": null,
   "id": "1ed868b4-ccbb-4d68-8a9e-f6b24d1979e1",
   "metadata": {},
   "outputs": [],
   "source": [
    "# 6.33 Mutable Set Operators and Methods (operators and methods that modify an existing set)"
   ]
  },
  {
   "cell_type": "code",
   "execution_count": 253,
   "id": "0111664c-a4f2-44d2-ac9f-f47881d8b25c",
   "metadata": {},
   "outputs": [
    {
     "data": {
      "text/plain": [
       "{1, 2, 3, 4, 5}"
      ]
     },
     "execution_count": 253,
     "metadata": {},
     "output_type": "execute_result"
    }
   ],
   "source": [
    "# |= (union augmented assignment) -- modifies its left side\n",
    "numbers = {1, 3, 5}\n",
    "\n",
    "numbers |= {2, 3, 4}\n",
    "\n",
    "numbers"
   ]
  },
  {
   "cell_type": "code",
   "execution_count": 254,
   "id": "2e1765df-3ca6-4540-a1f1-a1eb47d354e1",
   "metadata": {},
   "outputs": [
    {
     "data": {
      "text/plain": [
       "{0, 1, 2, 3, 4, 5, 6, 7, 8, 9}"
      ]
     },
     "execution_count": 254,
     "metadata": {},
     "output_type": "execute_result"
    }
   ],
   "source": [
    "#update method, union operation - the argument can be any iterable\n",
    "\n",
    "numbers.update(range(10))\n",
    "\n",
    "numbers"
   ]
  },
  {
   "cell_type": "code",
   "execution_count": 256,
   "id": "b58cec84-e8dd-458b-8ce4-83ffd3af61f8",
   "metadata": {},
   "outputs": [
    {
     "data": {
      "text/plain": [
       "{0, 1, 2, 3, 4, 5, 6, 7, 8, 9, 17}"
      ]
     },
     "execution_count": 256,
     "metadata": {},
     "output_type": "execute_result"
    }
   ],
   "source": [
    "# adding and removing elements\n",
    "# 'add' if its not already in the set\n",
    "\n",
    "numbers.add(17)\n",
    "\n",
    "numbers.add(3)\n",
    "\n",
    "numbers"
   ]
  },
  {
   "cell_type": "code",
   "execution_count": 257,
   "id": "faa67580-4102-4676-b962-3406b50ab109",
   "metadata": {},
   "outputs": [
    {
     "data": {
      "text/plain": [
       "{0, 1, 2, 4, 5, 6, 7, 8, 9, 17}"
      ]
     },
     "execution_count": 257,
     "metadata": {},
     "output_type": "execute_result"
    }
   ],
   "source": [
    "#remove - KeyError occurs if the value is not in the set\n",
    "\n",
    "numbers.remove(3)\n",
    "\n",
    "numbers"
   ]
  },
  {
   "cell_type": "code",
   "execution_count": 258,
   "id": "3f58504e-f6a7-4f6a-8991-615bc8934f9b",
   "metadata": {},
   "outputs": [
    {
     "data": {
      "text/plain": [
       "0"
      ]
     },
     "execution_count": 258,
     "metadata": {},
     "output_type": "execute_result"
    }
   ],
   "source": [
    "#method 'discard' removes the element but does not cause an exception if not in the set\n",
    "#remove an arbitrary element (sets aren't ordered) return as 'pop', you don't know which element will be returned\n",
    "\n",
    "numbers.pop()\n",
    "\n"
   ]
  },
  {
   "cell_type": "code",
   "execution_count": 259,
   "id": "0d948338-7234-4bdc-a306-508cf4d11f3f",
   "metadata": {},
   "outputs": [
    {
     "data": {
      "text/plain": [
       "{1, 2, 4, 5, 6, 7, 8, 9, 17}"
      ]
     },
     "execution_count": 259,
     "metadata": {},
     "output_type": "execute_result"
    }
   ],
   "source": [
    "numbers"
   ]
  },
  {
   "cell_type": "code",
   "execution_count": null,
   "id": "2e51b809-b10d-43db-870d-a193cf5d0188",
   "metadata": {},
   "outputs": [],
   "source": [
    "#KeyError returns if the set is empty when you call 'pop'"
   ]
  },
  {
   "cell_type": "code",
   "execution_count": 260,
   "id": "ed85c831-6c80-4682-bfc0-ff4623e57136",
   "metadata": {},
   "outputs": [
    {
     "data": {
      "text/plain": [
       "set()"
      ]
     },
     "execution_count": 260,
     "metadata": {},
     "output_type": "execute_result"
    }
   ],
   "source": [
    "#Clear method empties the set\n",
    "\n",
    "numbers.clear()\n",
    "\n",
    "numbers"
   ]
  },
  {
   "cell_type": "markdown",
   "id": "f3a6c7d1-af71-4fbe-a8ed-aff3e17a6ca7",
   "metadata": {},
   "source": []
  },
  {
   "cell_type": "markdown",
   "id": "a1b88b97-3891-4279-89fe-3ca4e492a48f",
   "metadata": {},
   "source": [
    "## Dasha Davis 6.3.4 Set Comprehensions"
   ]
  },
  {
   "cell_type": "code",
   "execution_count": 261,
   "id": "dafb648f-3ecc-40d3-93f1-caf7246835f3",
   "metadata": {},
   "outputs": [
    {
     "data": {
      "text/plain": [
       "{2, 4, 6, 8, 10}"
      ]
     },
     "execution_count": 261,
     "metadata": {},
     "output_type": "execute_result"
    }
   ],
   "source": [
    "numbers = [1, 2, 2, 3, 4, 5, 6, 6, 7, 8, 9, 10, 10]\n",
    "\n",
    "evens = {item for item in numbers if item % 2 == 0}\n",
    "\n",
    "evens"
   ]
  },
  {
   "cell_type": "code",
   "execution_count": null,
   "id": "d2790b8c-5537-4bda-beab-f84b545163ef",
   "metadata": {},
   "outputs": [],
   "source": []
  },
  {
   "cell_type": "code",
   "execution_count": null,
   "id": "e1501b92-c5db-4f30-8e73-7bf70aacf26d",
   "metadata": {},
   "outputs": [],
   "source": []
  },
  {
   "cell_type": "code",
   "execution_count": null,
   "id": "71f74e27-5fd4-47f9-a978-4ae54e74d004",
   "metadata": {},
   "outputs": [],
   "source": []
  },
  {
   "cell_type": "code",
   "execution_count": null,
   "id": "fd418e39-cd46-4cc1-b613-5cc8550afdfb",
   "metadata": {},
   "outputs": [],
   "source": []
  },
  {
   "cell_type": "code",
   "execution_count": null,
   "id": "fa3033ea-7e7c-489b-b609-41456fa99cad",
   "metadata": {},
   "outputs": [],
   "source": []
  },
  {
   "cell_type": "code",
   "execution_count": null,
   "id": "c7eba00a-8de9-4a83-be39-d5b1328c9d80",
   "metadata": {},
   "outputs": [],
   "source": []
  },
  {
   "cell_type": "code",
   "execution_count": null,
   "id": "354357c9-acc2-4dd6-bc17-217e4ee28ff1",
   "metadata": {},
   "outputs": [],
   "source": []
  }
 ],
 "metadata": {
  "kernelspec": {
   "display_name": "Python 3 (ipykernel)",
   "language": "python",
   "name": "python3"
  },
  "language_info": {
   "codemirror_mode": {
    "name": "ipython",
    "version": 3
   },
   "file_extension": ".py",
   "mimetype": "text/x-python",
   "name": "python",
   "nbconvert_exporter": "python",
   "pygments_lexer": "ipython3",
   "version": "3.9.12"
  }
 },
 "nbformat": 4,
 "nbformat_minor": 5
}
